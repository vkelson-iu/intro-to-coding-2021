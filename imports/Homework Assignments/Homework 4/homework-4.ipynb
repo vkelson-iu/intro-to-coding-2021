{
 "cells": [
  {
   "cell_type": "markdown",
   "metadata": {},
   "source": [
    "Homework 4\n",
    "---\n"
   ]
  },
  {
   "cell_type": "markdown",
   "metadata": {},
   "source": [
    "1. Write a generator function `average_temps` that accepts the name of a CSV file similar to the file `2017-weather.csv` and yields a sequence of tuples, each of which contains a `datetime` object for the date and a `float` object for the average temperature on that date."
   ]
  },
  {
   "cell_type": "code",
   "execution_count": null,
   "metadata": {},
   "outputs": [],
   "source": []
  },
  {
   "cell_type": "markdown",
   "metadata": {},
   "source": [
    "2. Write code to calculate the total number of heating degree-days and cooling degree-days for Bloomington in 2017. The number of heating degree days is a comparative measure of how much energy it takes to heat a home, based on an average temperature of 65 degrees F. Take a look at [this link](https://www.eia.gov/energyexplained/units-and-calculators/degree-days.php) for more information about heating degree days. "
   ]
  },
  {
   "cell_type": "code",
   "execution_count": null,
   "metadata": {},
   "outputs": [],
   "source": []
  },
  {
   "cell_type": "markdown",
   "metadata": {},
   "source": [
    "3. Modify your code to calculate the total number of heating and cooling degree-days for Bloomington in each month of 2017. Make a bar graph that shows your monthly results."
   ]
  },
  {
   "cell_type": "code",
   "execution_count": null,
   "metadata": {},
   "outputs": [],
   "source": []
  },
  {
   "cell_type": "markdown",
   "metadata": {},
   "source": [
    "What type of data and/or collections do you want?\n",
    "---\n",
    "For the following problems, decide on appropriate data types and collection types. For keyed collections, offer a choice of keys. In all cases, explain your reasoning. Feel free to express your data in custom `class` types or in built-in Python types."
   ]
  },
  {
   "cell_type": "markdown",
   "metadata": {},
   "source": [
    "4. Two different people each provide you a list of 10-20 of their very best friends names, as strings. What data types would you use to find out which friends they have in common? Make sure the class initializer formats the names consistently, for comparison purposes."
   ]
  },
  {
   "cell_type": "code",
   "execution_count": null,
   "metadata": {},
   "outputs": [],
   "source": []
  },
  {
   "cell_type": "markdown",
   "metadata": {},
   "source": [
    "5. A drone transmits its position and altitude above the land surface to your code every ten seconds. What data structure might you use to store the 3D position data?"
   ]
  },
  {
   "cell_type": "code",
   "execution_count": null,
   "metadata": {},
   "outputs": [],
   "source": []
  },
  {
   "cell_type": "markdown",
   "metadata": {},
   "source": [
    "6. You want to make an address book with names, addresses, city, state, and phone number for all your friends. You'd like to be able to retrieve data by providing the person's name."
   ]
  },
  {
   "cell_type": "code",
   "execution_count": null,
   "metadata": {},
   "outputs": [],
   "source": []
  }
 ],
 "metadata": {
  "kernelspec": {
   "display_name": "Python 3",
   "language": "python",
   "name": "python3"
  },
  "language_info": {
   "codemirror_mode": {
    "name": "ipython",
    "version": 3
   },
   "file_extension": ".py",
   "mimetype": "text/x-python",
   "name": "python",
   "nbconvert_exporter": "python",
   "pygments_lexer": "ipython3",
   "version": "3.7.4"
  }
 },
 "nbformat": 4,
 "nbformat_minor": 2
}
