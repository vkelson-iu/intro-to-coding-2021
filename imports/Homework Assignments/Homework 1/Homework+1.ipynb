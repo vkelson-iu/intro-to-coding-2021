{
 "cells": [
  {
   "cell_type": "markdown",
   "metadata": {},
   "source": [
    "# Homework Assignment 1"
   ]
  },
  {
   "cell_type": "markdown",
   "metadata": {},
   "source": [
    "### First steps with Python"
   ]
  },
  {
   "cell_type": "markdown",
   "metadata": {},
   "source": [
    "Create a Python variable called \"name\" that contains a string that has your name in it."
   ]
  },
  {
   "cell_type": "code",
   "execution_count": null,
   "metadata": {
    "collapsed": true
   },
   "outputs": [],
   "source": []
  },
  {
   "cell_type": "markdown",
   "metadata": {},
   "source": [
    "Create a Python variable 'cups' that contains an integer that is the number of cups of coffee you've had to drink today, so far."
   ]
  },
  {
   "cell_type": "code",
   "execution_count": null,
   "metadata": {
    "collapsed": true
   },
   "outputs": [],
   "source": []
  },
  {
   "cell_type": "markdown",
   "metadata": {},
   "source": [
    "Write a Python statement that uses the variables 'name' and 'cups' to print a message with your name and the number of cups of coffee, for example \"Vic has had 2 cups of coffee today\""
   ]
  },
  {
   "cell_type": "code",
   "execution_count": null,
   "metadata": {
    "collapsed": true
   },
   "outputs": [],
   "source": []
  },
  {
   "cell_type": "markdown",
   "metadata": {},
   "source": [
    "Calculate the ratio of 7/4 using regular Python division (the '/' operator) and using the integer division ('//') operator, in the code cell below. What is the difference (enter your text answer in the Markdown cell below)?"
   ]
  },
  {
   "cell_type": "code",
   "execution_count": 1,
   "metadata": {
    "collapsed": true
   },
   "outputs": [],
   "source": [
    "# Put your calculations in this cell\n"
   ]
  },
  {
   "cell_type": "markdown",
   "metadata": {},
   "source": [
    "** Double-click this text to enter your explanation of the calculations in a Markdown cell. **"
   ]
  },
  {
   "cell_type": "markdown",
   "metadata": {},
   "source": [
    "## First steps as a programmer: solving a problem step-by-step"
   ]
  },
  {
   "cell_type": "markdown",
   "metadata": {},
   "source": [
    "In bad weather, your personal experience is that you can average 45 miles per hour on the Interstate (including traffic delays and breaks). Our goal now is to use Python to estimate the amount of time that it would take to drive from Bloomington to a friend's home in Evansville, a distance of 127 miles, on I-69 in bad weather. Report the result as a string of the form, \"Estimated travel time is h:mm\" where h is the number of hours and mm is the number of minutes.\n",
    "\n",
    "In the Markdown cell below, write down the steps you'll need to take in order to solve this problem. I've provided some spaces for you. Double-click the text below to edit it."
   ]
  },
  {
   "cell_type": "markdown",
   "metadata": {},
   "source": [
    "1. Enter your first step here\n",
    "1. Enter your second step here\n",
    "1. Enter your third step here\n",
    "\n",
    "...more steps can be added if you need them"
   ]
  },
  {
   "cell_type": "markdown",
   "metadata": {},
   "source": [
    "Now, write Python code in the following cell to solve the problem and print the results."
   ]
  },
  {
   "cell_type": "code",
   "execution_count": null,
   "metadata": {
    "collapsed": true
   },
   "outputs": [],
   "source": []
  },
  {
   "cell_type": "markdown",
   "metadata": {},
   "source": [
    "Re-work the previous problem, only based on an average good-weather velocity of 61 miles per hour."
   ]
  },
  {
   "cell_type": "code",
   "execution_count": null,
   "metadata": {},
   "outputs": [],
   "source": []
  },
  {
   "cell_type": "markdown",
   "metadata": {},
   "source": [
    "Writing a new function: Write the inverse of the celsius_to_fahrenheit function from class.\n",
    "--------\n",
    "\n",
    "Create a function 'farenheit_to_celsius(degrees_f)' that returns the temperature in Celsius degrees, given the temperature in fahrenheit degrees."
   ]
  },
  {
   "cell_type": "code",
   "execution_count": null,
   "metadata": {},
   "outputs": [],
   "source": [
    "def farhenheit_to_celsius(degrees_f):\n",
    "    '''\n",
    "    Looks like you will need to write a doc-string here...\n",
    "    Remenber to remove the 'pass' statement and replace with your code...\n",
    "    '''\n",
    "    pass"
   ]
  },
  {
   "cell_type": "markdown",
   "metadata": {},
   "source": [
    "Now, write some tests for your new function. What should be the result of \n",
    "\n",
    "`fahrenheit_to_celsius(celsius_to_faherenheit(25))`\n",
    "\n",
    "Copy the `celsius_to_fahrenheit` code from class notes here, and run the test above."
   ]
  },
  {
   "cell_type": "code",
   "execution_count": null,
   "metadata": {},
   "outputs": [],
   "source": []
  }
 ],
 "metadata": {
  "kernelspec": {
   "display_name": "Python 3",
   "language": "python",
   "name": "python3"
  },
  "language_info": {
   "codemirror_mode": {
    "name": "ipython",
    "version": 3
   },
   "file_extension": ".py",
   "mimetype": "text/x-python",
   "name": "python",
   "nbconvert_exporter": "python",
   "pygments_lexer": "ipython3",
   "version": "3.7.4"
  }
 },
 "nbformat": 4,
 "nbformat_minor": 2
}
