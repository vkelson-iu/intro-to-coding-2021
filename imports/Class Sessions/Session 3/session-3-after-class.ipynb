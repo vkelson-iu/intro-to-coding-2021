{
 "cells": [
  {
   "cell_type": "markdown",
   "metadata": {},
   "source": [
    "Session 3\n",
    "========\n",
    "\n",
    "Today we'll continue our discussion of Python data types, learning a bit more about strings and then discussing three new built-in Python data types that can contain other Python data. Our big themes for today are\n",
    "\n",
    "  * Type conversion\n",
    "  * Formatted output and the `print` function\n",
    "  * Indexing and slicing strings\n",
    "  * The `len` function\n",
    "  * Collection types: lists, tuples, and dictionaries\n",
    "  * Tuple unpacking\n",
    "  * The `for` loop"
   ]
  },
  {
   "cell_type": "markdown",
   "metadata": {},
   "source": [
    "Type Conversion\n",
    "----\n",
    "\n",
    "The basic Python type names may be used as functions to allow for changing between types."
   ]
  },
  {
   "cell_type": "code",
   "execution_count": null,
   "metadata": {},
   "outputs": [],
   "source": [
    "# Convert a floating-point number into a string\n",
    "str(3.14159)"
   ]
  },
  {
   "cell_type": "code",
   "execution_count": null,
   "metadata": {},
   "outputs": [],
   "source": [
    "int(3.14159)"
   ]
  },
  {
   "cell_type": "code",
   "execution_count": null,
   "metadata": {},
   "outputs": [],
   "source": [
    "type(int(3.14159))"
   ]
  },
  {
   "cell_type": "code",
   "execution_count": null,
   "metadata": {},
   "outputs": [],
   "source": [
    "bool(0)"
   ]
  },
  {
   "cell_type": "code",
   "execution_count": null,
   "metadata": {},
   "outputs": [],
   "source": [
    "bool(0.1)"
   ]
  },
  {
   "cell_type": "code",
   "execution_count": null,
   "metadata": {},
   "outputs": [],
   "source": [
    "float('2.71828')"
   ]
  },
  {
   "cell_type": "markdown",
   "metadata": {},
   "source": [
    "The `print` and `input` functions\n",
    "-----"
   ]
  },
  {
   "cell_type": "markdown",
   "metadata": {},
   "source": [
    "When you ask Python to type out the value of a variable, you are given the \"representation\" of the value of the variable. So, for example, when we looked at the values of our strings (above), they have quotation marks. Also, we could only see our values when we asked at the end of a cell in Jupyter Notebook.\n",
    "\n",
    "The `input` function allows us to write code that asks the user for some input. The user's input is returned as a string."
   ]
  },
  {
   "cell_type": "code",
   "execution_count": 1,
   "metadata": {},
   "outputs": [],
   "source": [
    "# Remember our function for converting Celsius to Fahrenheit?\n",
    "\n",
    "def celsius_to_fahrenheit(degrees_c):\n",
    "    '''\n",
    "    Put your code in here, replacing the 'pass' keyword ('pass' implements a \n",
    "    function that does nothing and returns nothing)\n",
    "    '''\n",
    "    degrees_f = 1.8 * degrees_c + 32\n",
    "    return degrees_f\n"
   ]
  },
  {
   "cell_type": "code",
   "execution_count": 2,
   "metadata": {},
   "outputs": [
    {
     "data": {
      "text/plain": [
       "68.0"
      ]
     },
     "execution_count": 2,
     "metadata": {},
     "output_type": "execute_result"
    }
   ],
   "source": [
    "# We can use Python as a calculator, as we did last Thursday\n",
    "\n",
    "celsius_to_fahrenheit(20)"
   ]
  },
  {
   "cell_type": "code",
   "execution_count": 3,
   "metadata": {},
   "outputs": [
    {
     "name": "stdout",
     "output_type": "stream",
     "text": [
      "68.0\n"
     ]
    }
   ],
   "source": [
    "# We can also print our results utilizing the `print` function\n",
    "\n",
    "print(celsius_to_fahrenheit(20))"
   ]
  },
  {
   "cell_type": "code",
   "execution_count": 4,
   "metadata": {},
   "outputs": [
    {
     "name": "stdout",
     "output_type": "stream",
     "text": [
      "Tomorrow's high temperature will be 68.0\n"
     ]
    }
   ],
   "source": [
    "# The advantage of the `print` function is that we can put more information,\n",
    "# for example\n",
    "\n",
    "print(\"Tomorrow's high temperature will be\", celsius_to_fahrenheit(20))"
   ]
  },
  {
   "cell_type": "code",
   "execution_count": 5,
   "metadata": {},
   "outputs": [
    {
     "name": "stdout",
     "output_type": "stream",
     "text": [
      "Pease enter your name: vic\n",
      "Your name is vic\n"
     ]
    }
   ],
   "source": [
    "# We can use the `input `function to read information from the user\n",
    "# `input` takes a string as an argument, which is used as a prompt for the user.\n",
    "\n",
    "user_name = input('Pease enter your name: ')\n",
    "print('Your name is', user_name)"
   ]
  },
  {
   "cell_type": "markdown",
   "metadata": {},
   "source": [
    "The `len` function\n",
    "------------\n",
    "\n",
    "Imagine that you have code that has read a text string and you would like to know the number of characters in the string. The function `len` returns the length of the string. We'll see later today that `len` can be utilized with lots of other Python data types."
   ]
  },
  {
   "cell_type": "code",
   "execution_count": 6,
   "metadata": {},
   "outputs": [
    {
     "data": {
      "text/plain": [
       "'This is a moderately long string'"
      ]
     },
     "execution_count": 6,
     "metadata": {},
     "output_type": "execute_result"
    }
   ],
   "source": [
    "s = 'This is a moderately long string'\n",
    "s"
   ]
  },
  {
   "cell_type": "code",
   "execution_count": 7,
   "metadata": {},
   "outputs": [
    {
     "data": {
      "text/plain": [
       "32"
      ]
     },
     "execution_count": 7,
     "metadata": {},
     "output_type": "execute_result"
    }
   ],
   "source": [
    "len(s)"
   ]
  },
  {
   "cell_type": "markdown",
   "metadata": {},
   "source": [
    "In-class Exercise\n",
    "----------\n",
    "\n",
    "In the cell below, write Python code that asks the user to enter some text, then prints a report of the form\n",
    "\n",
    "`You entered a string with x characters in it`\n",
    "\n",
    "where `x` is the length of the string."
   ]
  },
  {
   "cell_type": "code",
   "execution_count": 8,
   "metadata": {},
   "outputs": [
    {
     "name": "stdout",
     "output_type": "stream",
     "text": [
      "Please enter some text: Kaboom\n",
      "You entered a string with 6 characters in it\n"
     ]
    }
   ],
   "source": [
    "user_text = input('Please enter some text: ')\n",
    "print('You entered a string with', len(user_text), 'characters in it')"
   ]
  },
  {
   "cell_type": "markdown",
   "metadata": {},
   "source": [
    "Indexing with Text Strings\n",
    "------------\n",
    "\n",
    "We can extract single characters from text strings by *indexing*. The index is a number entered between two square brackets, e.g. `[i]` for character number `i`. Indexing is *zero-based*, that is, the first character in the string is at index `0`. We can also index backwards from the end of the string, with negative index values. Index `-1` is the last character in the string, index `-2` is the next-to-the-last, etc."
   ]
  },
  {
   "cell_type": "code",
   "execution_count": 9,
   "metadata": {},
   "outputs": [
    {
     "name": "stdout",
     "output_type": "stream",
     "text": [
      "The first character of the string is: T\n",
      "The sixth character of the string is: i\n"
     ]
    }
   ],
   "source": [
    "# Here's a string to play with\n",
    "s = 'This is a moderately long string'\n",
    "\n",
    "# Here we'll extract two characters from the string... note that we can use the \n",
    "# `print` statement to print out more than one line from a Jupyter notebook cell.\n",
    "print('The first character of the string is:', s[0])\n",
    "print('The sixth character of the string is:', s[5])"
   ]
  },
  {
   "cell_type": "code",
   "execution_count": 10,
   "metadata": {},
   "outputs": [
    {
     "name": "stdout",
     "output_type": "stream",
     "text": [
      "The last character in the string is: g\n"
     ]
    }
   ],
   "source": [
    "# Indexing from the end of the string\n",
    "print('The last character in the string is:', s[-1])"
   ]
  },
  {
   "cell_type": "code",
   "execution_count": 11,
   "metadata": {},
   "outputs": [
    {
     "data": {
      "text/plain": [
       "str"
      ]
     },
     "execution_count": 11,
     "metadata": {},
     "output_type": "execute_result"
    }
   ],
   "source": [
    "type(s[-1])"
   ]
  },
  {
   "cell_type": "markdown",
   "metadata": {},
   "source": [
    "Slicing a string\n",
    "----\n",
    "\n",
    "We can 'slice' a string between the positions `i` and `j` using the indexing syntax `[i:j]`. Note that the slice ends just before positon `j`. If we omit one index or the other, it defaults to the beginning or end of the string. \n",
    "\n",
    "We can also add a third entry to the slice, using the syntax `[i:j:k]`, where `k` is the spacing in the slice."
   ]
  },
  {
   "cell_type": "code",
   "execution_count": 12,
   "metadata": {},
   "outputs": [
    {
     "data": {
      "text/plain": [
       "'This '"
      ]
     },
     "execution_count": 12,
     "metadata": {},
     "output_type": "execute_result"
    }
   ],
   "source": [
    "# Retrieve the first five characters in our string\n",
    "s[0:5]"
   ]
  },
  {
   "cell_type": "code",
   "execution_count": 13,
   "metadata": {},
   "outputs": [
    {
     "data": {
      "text/plain": [
       "'This '"
      ]
     },
     "execution_count": 13,
     "metadata": {},
     "output_type": "execute_result"
    }
   ],
   "source": [
    "# Another way to retrieve the first five characters in our string\n",
    "s[:5]"
   ]
  },
  {
   "cell_type": "code",
   "execution_count": 14,
   "metadata": {},
   "outputs": [
    {
     "data": {
      "text/plain": [
       "'tring'"
      ]
     },
     "execution_count": 14,
     "metadata": {},
     "output_type": "execute_result"
    }
   ],
   "source": [
    "# Retrieve the last five characters in the string\n",
    "s[-5:]"
   ]
  },
  {
   "cell_type": "code",
   "execution_count": 15,
   "metadata": {},
   "outputs": [
    {
     "data": {
      "text/plain": [
       "'Ti sa'"
      ]
     },
     "execution_count": 15,
     "metadata": {},
     "output_type": "execute_result"
    }
   ],
   "source": [
    "# Fectch every other character from the first 10 entries in the string\n",
    "s[:10:2]"
   ]
  },
  {
   "cell_type": "code",
   "execution_count": 16,
   "metadata": {},
   "outputs": [
    {
     "data": {
      "text/plain": [
       "'Ti samdrtl ogsrn'"
      ]
     },
     "execution_count": 16,
     "metadata": {},
     "output_type": "execute_result"
    }
   ],
   "source": [
    "# Every other character in the string\n",
    "s[::2]"
   ]
  },
  {
   "cell_type": "code",
   "execution_count": 17,
   "metadata": {},
   "outputs": [
    {
     "data": {
      "text/plain": [
       "'This is a moderately long string'"
      ]
     },
     "execution_count": 17,
     "metadata": {},
     "output_type": "execute_result"
    }
   ],
   "source": [
    "s"
   ]
  },
  {
   "cell_type": "markdown",
   "metadata": {},
   "source": [
    "f-strings (or 'format' strings)\n",
    "----\n",
    "\n",
    "To simplify printed output, f-strings first appeared in Python 3.6. To make one, put an 'f' before the string. \n",
    "\n",
    "Inside an f-string, you may put data fields to be formatted, between curly braces {}. Any valid Python expression may be placed within the string."
   ]
  },
  {
   "cell_type": "code",
   "execution_count": 18,
   "metadata": {},
   "outputs": [
    {
     "name": "stdout",
     "output_type": "stream",
     "text": [
      "Tomorrow's high temperature will be 68.0 degrees\n"
     ]
    }
   ],
   "source": [
    "print(f\"Tomorrow's high temperature will be {celsius_to_fahrenheit(20)} degrees\")"
   ]
  },
  {
   "cell_type": "code",
   "execution_count": 19,
   "metadata": {},
   "outputs": [
    {
     "data": {
      "text/plain": [
       "\"Tomorrow's high temperature will be 68.0 degrees\""
      ]
     },
     "execution_count": 19,
     "metadata": {},
     "output_type": "execute_result"
    }
   ],
   "source": [
    "f\"Tomorrow's high temperature will be {celsius_to_fahrenheit(20)} degrees\""
   ]
  },
  {
   "cell_type": "markdown",
   "metadata": {},
   "source": [
    "Lists\n",
    "---\n",
    "\n",
    "A python 'list' is an object that contains other objects in sequence. To make a list, we write the items to be included in the list between square brackets and separated by commas. All the indexing and slicing operations that we discussed for strings, plus the `len` function, all work on lists. \n",
    "\n",
    "In addition, an item in the list may be the target of an assignment statement. \n",
    "\n",
    "It is not necessary for all the items in a list to be of the same type."
   ]
  },
  {
   "cell_type": "code",
   "execution_count": 20,
   "metadata": {},
   "outputs": [
    {
     "data": {
      "text/plain": [
       "['ab', 'cd', 'ef', 'gh', 'ij', 'kl', 'mn']"
      ]
     },
     "execution_count": 20,
     "metadata": {},
     "output_type": "execute_result"
    }
   ],
   "source": [
    "# Here's a list of four strings\n",
    "the_list = ['ab', 'cd', 'ef', 'gh', 'ij', 'kl', 'mn']\n",
    "\n",
    "the_list"
   ]
  },
  {
   "cell_type": "code",
   "execution_count": 21,
   "metadata": {},
   "outputs": [
    {
     "data": {
      "text/plain": [
       "7"
      ]
     },
     "execution_count": 21,
     "metadata": {},
     "output_type": "execute_result"
    }
   ],
   "source": [
    "# How many items are there in the list?\n",
    "len(the_list)"
   ]
  },
  {
   "cell_type": "code",
   "execution_count": 22,
   "metadata": {},
   "outputs": [
    {
     "data": {
      "text/plain": [
       "'ab'"
      ]
     },
     "execution_count": 22,
     "metadata": {},
     "output_type": "execute_result"
    }
   ],
   "source": [
    "# Fetch the first item in the list\n",
    "the_list[0]"
   ]
  },
  {
   "cell_type": "code",
   "execution_count": 23,
   "metadata": {},
   "outputs": [
    {
     "data": {
      "text/plain": [
       "'mn'"
      ]
     },
     "execution_count": 23,
     "metadata": {},
     "output_type": "execute_result"
    }
   ],
   "source": [
    "# Fetch the last item in the list\n",
    "the_list[-1]"
   ]
  },
  {
   "cell_type": "code",
   "execution_count": 24,
   "metadata": {},
   "outputs": [
    {
     "data": {
      "text/plain": [
       "['ab', 'cd', 'ef']"
      ]
     },
     "execution_count": 24,
     "metadata": {},
     "output_type": "execute_result"
    }
   ],
   "source": [
    "# Fetch the first 3 items, as a smaller list\n",
    "the_list[:3]"
   ]
  },
  {
   "cell_type": "code",
   "execution_count": 25,
   "metadata": {},
   "outputs": [],
   "source": [
    "# Make a list containing an int, a float, and a string\n",
    "mixed_list = [4, 2.9, 'hello']"
   ]
  },
  {
   "cell_type": "code",
   "execution_count": 26,
   "metadata": {},
   "outputs": [
    {
     "data": {
      "text/plain": [
       "int"
      ]
     },
     "execution_count": 26,
     "metadata": {},
     "output_type": "execute_result"
    }
   ],
   "source": [
    "type(mixed_list[0])"
   ]
  },
  {
   "cell_type": "code",
   "execution_count": 27,
   "metadata": {},
   "outputs": [
    {
     "data": {
      "text/plain": [
       "float"
      ]
     },
     "execution_count": 27,
     "metadata": {},
     "output_type": "execute_result"
    }
   ],
   "source": [
    "type(mixed_list[1])"
   ]
  },
  {
   "cell_type": "code",
   "execution_count": 28,
   "metadata": {},
   "outputs": [
    {
     "data": {
      "text/plain": [
       "str"
      ]
     },
     "execution_count": 28,
     "metadata": {},
     "output_type": "execute_result"
    }
   ],
   "source": [
    "type(mixed_list[2])"
   ]
  },
  {
   "cell_type": "code",
   "execution_count": 29,
   "metadata": {},
   "outputs": [
    {
     "data": {
      "text/plain": [
       "['yz', 'cd', 'ef', 'gh', 'ij', 'kl', 'mn']"
      ]
     },
     "execution_count": 29,
     "metadata": {},
     "output_type": "execute_result"
    }
   ],
   "source": [
    "# Use indexing to change the first entry in `the_list` to 'yz'\n",
    "\n",
    "the_list[0] = 'yz'\n",
    "the_list"
   ]
  },
  {
   "cell_type": "code",
   "execution_count": 30,
   "metadata": {},
   "outputs": [
    {
     "data": {
      "text/plain": [
       "['cow', 'pig', None, 'goat']"
      ]
     },
     "execution_count": 30,
     "metadata": {},
     "output_type": "execute_result"
    }
   ],
   "source": [
    "# One use of `None` might be to mark missing items in a list\n",
    "\n",
    "animals = ['cow', 'pig', None, 'goat']\n",
    "animals"
   ]
  },
  {
   "cell_type": "markdown",
   "metadata": {},
   "source": [
    "Tuples\n",
    "---\n",
    "\n",
    "A tuple is similar to a list, with the items placed between parentheses. "
   ]
  },
  {
   "cell_type": "code",
   "execution_count": 31,
   "metadata": {},
   "outputs": [
    {
     "data": {
      "text/plain": [
       "('a', 'bf', 10, -1.34)"
      ]
     },
     "execution_count": 31,
     "metadata": {},
     "output_type": "execute_result"
    }
   ],
   "source": [
    "# Make a tuple\n",
    "\n",
    "the_tuple = ('a', 'bf', 10, -1.34)\n",
    "the_tuple"
   ]
  },
  {
   "cell_type": "code",
   "execution_count": 32,
   "metadata": {},
   "outputs": [
    {
     "data": {
      "text/plain": [
       "-1.34"
      ]
     },
     "execution_count": 32,
     "metadata": {},
     "output_type": "execute_result"
    }
   ],
   "source": [
    "# Last item in the tuple\n",
    "\n",
    "the_tuple[-1]"
   ]
  },
  {
   "cell_type": "code",
   "execution_count": 33,
   "metadata": {},
   "outputs": [
    {
     "data": {
      "text/plain": [
       "(10, -1.34)"
      ]
     },
     "execution_count": 33,
     "metadata": {},
     "output_type": "execute_result"
    }
   ],
   "source": [
    "# Extract a slice from the tuple as a tuple\n",
    "\n",
    "the_tuple[2:4]"
   ]
  },
  {
   "cell_type": "markdown",
   "metadata": {},
   "source": [
    "Tuple Unpacking\n",
    "----\n",
    "\n",
    "We may \"unpack\" a tuple into variables that contain each of the items in the tuple. This also works with lists, but that's less commonly used."
   ]
  },
  {
   "cell_type": "code",
   "execution_count": 34,
   "metadata": {},
   "outputs": [
    {
     "name": "stdout",
     "output_type": "stream",
     "text": [
      "a bf\n"
     ]
    }
   ],
   "source": [
    "# Unpack the tuple by assiging to more than one variable\n",
    "a, b, c, d = the_tuple\n",
    "\n",
    "print(a, b)"
   ]
  },
  {
   "cell_type": "code",
   "execution_count": 35,
   "metadata": {},
   "outputs": [
    {
     "name": "stdout",
     "output_type": "stream",
     "text": [
      "Before: a=4 and b=-4\n",
      "After:  a=-4 and b=4\n"
     ]
    }
   ],
   "source": [
    "# One cool use for unpacking is swapping values\n",
    "\n",
    "a = 4\n",
    "b = -4\n",
    "print(f'Before: a={a} and b={b}')\n",
    "\n",
    "a, b = b, a\n",
    "print(f'After:  a={a} and b={b}')"
   ]
  },
  {
   "cell_type": "markdown",
   "metadata": {},
   "source": [
    "Immutability\n",
    "------\n",
    "\n",
    "Tuples are *immutable*, meaning that entries in the tuple may not be changed by indexing. This ensures that data that are stored as a tuple may not be modified later. \n",
    "\n",
    "Strings are also immutable -- you cannot change any of the characters in the string.\n"
   ]
  },
  {
   "cell_type": "code",
   "execution_count": 36,
   "metadata": {},
   "outputs": [
    {
     "ename": "TypeError",
     "evalue": "'tuple' object does not support item assignment",
     "output_type": "error",
     "traceback": [
      "\u001b[1;31m---------------------------------------------------------------------------\u001b[0m",
      "\u001b[1;31mTypeError\u001b[0m                                 Traceback (most recent call last)",
      "\u001b[1;32m<ipython-input-36-247cf799f228>\u001b[0m in \u001b[0;36m<module>\u001b[1;34m\u001b[0m\n\u001b[0;32m      1\u001b[0m \u001b[1;31m# Can't change an entry in a tuple!\u001b[0m\u001b[1;33m\u001b[0m\u001b[1;33m\u001b[0m\u001b[1;33m\u001b[0m\u001b[0m\n\u001b[0;32m      2\u001b[0m \u001b[1;33m\u001b[0m\u001b[0m\n\u001b[1;32m----> 3\u001b[1;33m \u001b[0mthe_tuple\u001b[0m\u001b[1;33m[\u001b[0m\u001b[1;33m-\u001b[0m\u001b[1;36m1\u001b[0m\u001b[1;33m]\u001b[0m \u001b[1;33m=\u001b[0m \u001b[1;36m3.1415926\u001b[0m\u001b[1;33m\u001b[0m\u001b[1;33m\u001b[0m\u001b[0m\n\u001b[0m",
      "\u001b[1;31mTypeError\u001b[0m: 'tuple' object does not support item assignment"
     ]
    }
   ],
   "source": [
    "# Can't change an entry in a tuple!\n",
    "\n",
    "the_tuple[-1] = 3.1415926"
   ]
  },
  {
   "cell_type": "code",
   "execution_count": 37,
   "metadata": {},
   "outputs": [
    {
     "ename": "TypeError",
     "evalue": "'str' object does not support item assignment",
     "output_type": "error",
     "traceback": [
      "\u001b[1;31m---------------------------------------------------------------------------\u001b[0m",
      "\u001b[1;31mTypeError\u001b[0m                                 Traceback (most recent call last)",
      "\u001b[1;32m<ipython-input-37-97abe9eac9ce>\u001b[0m in \u001b[0;36m<module>\u001b[1;34m\u001b[0m\n\u001b[0;32m      3\u001b[0m \u001b[0ms\u001b[0m \u001b[1;33m=\u001b[0m \u001b[1;34m'this is a moderately long string'\u001b[0m\u001b[1;33m\u001b[0m\u001b[1;33m\u001b[0m\u001b[0m\n\u001b[0;32m      4\u001b[0m \u001b[1;33m\u001b[0m\u001b[0m\n\u001b[1;32m----> 5\u001b[1;33m \u001b[0ms\u001b[0m\u001b[1;33m[\u001b[0m\u001b[1;36m0\u001b[0m\u001b[1;33m]\u001b[0m \u001b[1;33m=\u001b[0m \u001b[1;34m'T'\u001b[0m\u001b[1;33m\u001b[0m\u001b[1;33m\u001b[0m\u001b[0m\n\u001b[0m",
      "\u001b[1;31mTypeError\u001b[0m: 'str' object does not support item assignment"
     ]
    }
   ],
   "source": [
    "# Can't change an entry in a string, either\n",
    "\n",
    "s = 'this is a moderately long string'\n",
    "\n",
    "s[0] = 'T'"
   ]
  },
  {
   "cell_type": "code",
   "execution_count": 39,
   "metadata": {},
   "outputs": [],
   "source": [
    "# A tuple is immutable, but if it contains a mutable object, that object can be changed...\n",
    "\n",
    "weird_tuple = (1, 3, \"fred\", [1, 2, 3])"
   ]
  },
  {
   "cell_type": "code",
   "execution_count": 40,
   "metadata": {},
   "outputs": [
    {
     "ename": "TypeError",
     "evalue": "'tuple' object does not support item assignment",
     "output_type": "error",
     "traceback": [
      "\u001b[1;31m---------------------------------------------------------------------------\u001b[0m",
      "\u001b[1;31mTypeError\u001b[0m                                 Traceback (most recent call last)",
      "\u001b[1;32m<ipython-input-40-2b28018fa33d>\u001b[0m in \u001b[0;36m<module>\u001b[1;34m\u001b[0m\n\u001b[1;32m----> 1\u001b[1;33m \u001b[0mweird_tuple\u001b[0m\u001b[1;33m[\u001b[0m\u001b[1;36m1\u001b[0m\u001b[1;33m]\u001b[0m \u001b[1;33m=\u001b[0m \u001b[1;36m5\u001b[0m\u001b[1;33m\u001b[0m\u001b[1;33m\u001b[0m\u001b[0m\n\u001b[0m",
      "\u001b[1;31mTypeError\u001b[0m: 'tuple' object does not support item assignment"
     ]
    }
   ],
   "source": [
    "weird_tuple[1] = 5"
   ]
  },
  {
   "cell_type": "code",
   "execution_count": 41,
   "metadata": {},
   "outputs": [],
   "source": [
    "weird_tuple[-1][0] = 999"
   ]
  },
  {
   "cell_type": "code",
   "execution_count": 42,
   "metadata": {},
   "outputs": [
    {
     "data": {
      "text/plain": [
       "(1, 3, 'fred', [999, 2, 3])"
      ]
     },
     "execution_count": 42,
     "metadata": {},
     "output_type": "execute_result"
    }
   ],
   "source": [
    "weird_tuple"
   ]
  },
  {
   "cell_type": "code",
   "execution_count": 44,
   "metadata": {},
   "outputs": [],
   "source": [
    "a, b, c, d = weird_tuple\n",
    "d[-1] = 1000"
   ]
  },
  {
   "cell_type": "code",
   "execution_count": 45,
   "metadata": {},
   "outputs": [
    {
     "data": {
      "text/plain": [
       "(1, 3, 'fred', [999, 2, 1000])"
      ]
     },
     "execution_count": 45,
     "metadata": {},
     "output_type": "execute_result"
    }
   ],
   "source": [
    "weird_tuple"
   ]
  },
  {
   "cell_type": "markdown",
   "metadata": {},
   "source": [
    "Dictionaries\n",
    "------\n",
    "\n",
    "One of Python's most powerful built-in features is the `dictionary` data type. A dictionary allows the programmer to store data *values* that are indexed using *keys*. A distionary is written as a number of `key:value` pairs between curly braces `{}`. Items may be changed within a dictionary (dictionaries are mutable). \n",
    "\n",
    "An important feature of dictionaries is that the keys must be unique.\n",
    "\n",
    "You'll discover that dictionaries will be used a LOT in your processing scripts."
   ]
  },
  {
   "cell_type": "code",
   "execution_count": 46,
   "metadata": {},
   "outputs": [
    {
     "data": {
      "text/plain": [
       "{'jan': 31,\n",
       " 'feb': 28,\n",
       " 'mar': 31,\n",
       " 'apr': 30,\n",
       " 'may': 31,\n",
       " 'jun': 30,\n",
       " 'jul': 31,\n",
       " 'aug': 31,\n",
       " 'sep': 30,\n",
       " 'oct': 31,\n",
       " 'nov': 30,\n",
       " 'dec': 31}"
      ]
     },
     "execution_count": 46,
     "metadata": {},
     "output_type": "execute_result"
    }
   ],
   "source": [
    "# Make a dictionary with the numbers of days in each month\n",
    "\n",
    "days_in_month = {'jan': 31, 'feb':28, 'mar':31, 'apr':30, 'may':31, 'jun':30,\n",
    "                'jul': 31, 'aug':31, 'sep':30, 'oct':31, 'nov':30, 'dec':31}\n",
    "days_in_month"
   ]
  },
  {
   "cell_type": "code",
   "execution_count": 47,
   "metadata": {},
   "outputs": [
    {
     "data": {
      "text/plain": [
       "31"
      ]
     },
     "execution_count": 47,
     "metadata": {},
     "output_type": "execute_result"
    }
   ],
   "source": [
    "# How many days are there in May?\n",
    "days_in_month['may']"
   ]
  },
  {
   "cell_type": "code",
   "execution_count": 49,
   "metadata": {},
   "outputs": [
    {
     "data": {
      "text/plain": [
       "{'jan': 31,\n",
       " 'feb': 29,\n",
       " 'mar': 31,\n",
       " 'apr': 30,\n",
       " 'may': 31,\n",
       " 'jun': 30,\n",
       " 'jul': 31,\n",
       " 'aug': 31,\n",
       " 'sep': 30,\n",
       " 'oct': 31,\n",
       " 'nov': 30,\n",
       " 'dec': 31}"
      ]
     },
     "execution_count": 49,
     "metadata": {},
     "output_type": "execute_result"
    }
   ],
   "source": [
    "# Whoops! It's a leap year!\n",
    "\n",
    "days_in_month['feb'] = 29\n",
    "days_in_month"
   ]
  },
  {
   "cell_type": "markdown",
   "metadata": {},
   "source": [
    "Looping Using the `for` Loop\n",
    "------\n",
    "\n",
    "Python allows for code that allows the user to traverse a collection type (list, tuple, dictionary) easily. We'll use the `for` loop a lot in our class. In a `for` loop, the programmer provides an *index variable* that is updated each time through the loop with a new entry from the container that is being processed. "
   ]
  },
  {
   "cell_type": "code",
   "execution_count": 50,
   "metadata": {},
   "outputs": [
    {
     "name": "stdout",
     "output_type": "stream",
     "text": [
      "There are 4 characters in this\n",
      "There are 2 characters in is\n",
      "There are 1 characters in a\n",
      "There are 4 characters in list\n",
      "There are 2 characters in of\n",
      "There are 5 characters in words\n"
     ]
    }
   ],
   "source": [
    "# make a list of words and print out their lengths. Note that 's' is\n",
    "# the index variable in the loop. Each time through the loop, it is \n",
    "# updated with an entry from the list.\n",
    "\n",
    "strings = ['this', 'is', 'a', 'list', 'of', 'words']\n",
    "for s in strings:\n",
    "    print(f'There are {len(s)} characters in {s}')"
   ]
  },
  {
   "cell_type": "code",
   "execution_count": 51,
   "metadata": {},
   "outputs": [
    {
     "name": "stdout",
     "output_type": "stream",
     "text": [
      "r\n",
      "u\n",
      "t\n",
      "a\n",
      "b\n",
      "e\n",
      "g\n",
      "a\n"
     ]
    }
   ],
   "source": [
    "# You can use a for loop with a string\n",
    "\n",
    "for s in \"rutabega\":\n",
    "    print(s)"
   ]
  },
  {
   "cell_type": "code",
   "execution_count": 52,
   "metadata": {},
   "outputs": [
    {
     "data": {
      "text/plain": [
       "(1, 3, 'fred', [999, 2, 1000])"
      ]
     },
     "execution_count": 52,
     "metadata": {},
     "output_type": "execute_result"
    }
   ],
   "source": [
    "weird_tuple"
   ]
  },
  {
   "cell_type": "code",
   "execution_count": 53,
   "metadata": {},
   "outputs": [
    {
     "name": "stdout",
     "output_type": "stream",
     "text": [
      "1\n",
      "3\n",
      "fred\n",
      "[999, 2, 1000]\n"
     ]
    }
   ],
   "source": [
    "for item in weird_tuple:\n",
    "    print(item)"
   ]
  },
  {
   "cell_type": "code",
   "execution_count": 54,
   "metadata": {},
   "outputs": [
    {
     "data": {
      "text/plain": [
       "{'jan': 31,\n",
       " 'feb': 29,\n",
       " 'mar': 31,\n",
       " 'apr': 30,\n",
       " 'may': 31,\n",
       " 'jun': 30,\n",
       " 'jul': 31,\n",
       " 'aug': 31,\n",
       " 'sep': 30,\n",
       " 'oct': 31,\n",
       " 'nov': 30,\n",
       " 'dec': 31}"
      ]
     },
     "execution_count": 54,
     "metadata": {},
     "output_type": "execute_result"
    }
   ],
   "source": [
    "days_in_month"
   ]
  },
  {
   "cell_type": "code",
   "execution_count": 56,
   "metadata": {},
   "outputs": [
    {
     "name": "stdout",
     "output_type": "stream",
     "text": [
      "jan 31\n",
      "feb 29\n",
      "mar 31\n",
      "apr 30\n",
      "may 31\n",
      "jun 30\n",
      "jul 31\n",
      "aug 31\n",
      "sep 30\n",
      "oct 31\n",
      "nov 30\n",
      "dec 31\n"
     ]
    }
   ],
   "source": [
    "for key in days_in_month:\n",
    "    print(key, days_in_month[key])"
   ]
  },
  {
   "cell_type": "code",
   "execution_count": 60,
   "metadata": {},
   "outputs": [
    {
     "data": {
      "text/plain": [
       "'THIS IS A    MODERATELY LONG   STRING'"
      ]
     },
     "execution_count": 60,
     "metadata": {},
     "output_type": "execute_result"
    }
   ],
   "source": [
    "# Calling a string method\n",
    "\n",
    "s = 'this is a    moderately long   string'\n",
    "\n",
    "s.upper()"
   ]
  },
  {
   "cell_type": "code",
   "execution_count": 61,
   "metadata": {},
   "outputs": [
    {
     "data": {
      "text/plain": [
       "'this is a    moderately long   string'"
      ]
     },
     "execution_count": 61,
     "metadata": {},
     "output_type": "execute_result"
    }
   ],
   "source": [
    "s"
   ]
  },
  {
   "cell_type": "code",
   "execution_count": 62,
   "metadata": {},
   "outputs": [
    {
     "data": {
      "text/plain": [
       "['this', 'is', 'a', 'moderately', 'long', 'string']"
      ]
     },
     "execution_count": 62,
     "metadata": {},
     "output_type": "execute_result"
    }
   ],
   "source": [
    "s.split()"
   ]
  },
  {
   "cell_type": "code",
   "execution_count": 63,
   "metadata": {},
   "outputs": [
    {
     "data": {
      "text/plain": [
       "['thi', ' i', ' a    moderately long   ', 'tring']"
      ]
     },
     "execution_count": 63,
     "metadata": {},
     "output_type": "execute_result"
    }
   ],
   "source": [
    "s.split('s')"
   ]
  },
  {
   "cell_type": "code",
   "execution_count": 64,
   "metadata": {},
   "outputs": [],
   "source": [
    "words = s.split()"
   ]
  },
  {
   "cell_type": "code",
   "execution_count": 65,
   "metadata": {},
   "outputs": [
    {
     "data": {
      "text/plain": [
       "['this', 'is', 'a', 'moderately', 'long', 'string']"
      ]
     },
     "execution_count": 65,
     "metadata": {},
     "output_type": "execute_result"
    }
   ],
   "source": [
    "words"
   ]
  },
  {
   "cell_type": "code",
   "execution_count": 68,
   "metadata": {},
   "outputs": [
    {
     "data": {
      "text/plain": [
       "'this-is-a-moderately-long-string'"
      ]
     },
     "execution_count": 68,
     "metadata": {},
     "output_type": "execute_result"
    }
   ],
   "source": [
    "'-'.join(words)"
   ]
  },
  {
   "cell_type": "code",
   "execution_count": 71,
   "metadata": {},
   "outputs": [
    {
     "name": "stdout",
     "output_type": "stream",
     "text": [
      "('jan', 31)\n",
      "('feb', 29)\n",
      "('mar', 31)\n",
      "('apr', 30)\n",
      "('may', 31)\n",
      "('jun', 30)\n",
      "('jul', 31)\n",
      "('aug', 31)\n",
      "('sep', 30)\n",
      "('oct', 31)\n",
      "('nov', 30)\n",
      "('dec', 31)\n"
     ]
    }
   ],
   "source": [
    "# Using the values method of a dictionary\n",
    "\n",
    "for days in days_in_month.items():\n",
    "    print(days)"
   ]
  },
  {
   "cell_type": "code",
   "execution_count": 73,
   "metadata": {},
   "outputs": [
    {
     "name": "stdout",
     "output_type": "stream",
     "text": [
      "there are 31 days in jan\n",
      "there are 29 days in feb\n",
      "there are 31 days in mar\n",
      "there are 30 days in apr\n",
      "there are 31 days in may\n",
      "there are 30 days in jun\n",
      "there are 31 days in jul\n",
      "there are 31 days in aug\n",
      "there are 30 days in sep\n",
      "there are 31 days in oct\n",
      "there are 30 days in nov\n",
      "there are 31 days in dec\n"
     ]
    }
   ],
   "source": [
    "for k, v in days_in_month.items():\n",
    "    print(f'there are {v} days in {k}')"
   ]
  },
  {
   "cell_type": "code",
   "execution_count": null,
   "metadata": {},
   "outputs": [],
   "source": []
  }
 ],
 "metadata": {
  "kernelspec": {
   "display_name": "Python 3",
   "language": "python",
   "name": "python3"
  },
  "language_info": {
   "codemirror_mode": {
    "name": "ipython",
    "version": 3
   },
   "file_extension": ".py",
   "mimetype": "text/x-python",
   "name": "python",
   "nbconvert_exporter": "python",
   "pygments_lexer": "ipython3",
   "version": "3.7.3"
  }
 },
 "nbformat": 4,
 "nbformat_minor": 1
}
