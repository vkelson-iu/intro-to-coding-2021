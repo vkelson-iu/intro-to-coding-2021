{
 "cells": [
  {
   "cell_type": "markdown",
   "metadata": {},
   "source": [
    "Session 5\n",
    "====\n",
    "\n",
    "Today, we'll explore the  `datetime`, `csv`, and `math` modules from the Python Standard Library, plus, we'll do some basic plotting with the `matplotlib` module."
   ]
  },
  {
   "cell_type": "markdown",
   "metadata": {},
   "source": [
    "The `datetime` module\n",
    "---\n",
    "One of the most frustrating tasks that a programmer can tackle is writing code to manage date and time data. Fortunately, Python's Standard Library includes the `datetime` module, which provides robust support for date, time, and combined date-and-time calculations. Let's explore!\n",
    "\n",
    " * `datetime.date` is a class of Python objects that contain dates\n",
    " * `datetime.time` is a class of Python objects that contain times\n",
    " * `datetime.datetime` is a class of Python objects that contains both dates and times\n",
    " * `datetime.timedelta` is a class of Python objects that allow for date-and-time math\n",
    " \n",
    "Let's look at [the docs...](https://docs.python.org/3/library/datetime.html)"
   ]
  },
  {
   "cell_type": "code",
   "execution_count": null,
   "metadata": {},
   "outputs": [],
   "source": [
    "# Import the types that we want to explore...\n",
    "\n",
    "from datetime import date, time, datetime, timedelta"
   ]
  },
  {
   "cell_type": "code",
   "execution_count": null,
   "metadata": {},
   "outputs": [],
   "source": [
    "# Let's look at dates first... \n",
    "# Fetch today's date...\n",
    "today = date.today()\n",
    "print(today)"
   ]
  },
  {
   "cell_type": "code",
   "execution_count": null,
   "metadata": {},
   "outputs": [],
   "source": [
    "# We can pick out the fields of a `date` object\n",
    "print(f'Month {today.month} Day {today.day} Year {today.year}')"
   ]
  },
  {
   "cell_type": "code",
   "execution_count": null,
   "metadata": {},
   "outputs": [],
   "source": [
    "# The first public release of Python (version 0.9) was released on February 20, 1991. \n",
    "\n",
    "python_bd = date(year=1991, month=2, day=20)\n",
    "\n",
    "# How long ago was that?\n",
    "python_age = today - python_bd\n",
    "python_age\n"
   ]
  },
  {
   "cell_type": "code",
   "execution_count": null,
   "metadata": {},
   "outputs": [],
   "source": [
    "# We can use custom formats with date, time, and datetime objects using the `strftime()` method\n",
    "\n",
    "today.strftime('%A %m-%d-%Y')"
   ]
  },
  {
   "cell_type": "code",
   "execution_count": null,
   "metadata": {},
   "outputs": [],
   "source": [
    "# We can also parse date-time date using the `datetime.datetime.strptime()` function.\n",
    "# Note that the result is a datetime...\n",
    "nye = \n",
    "nye"
   ]
  },
  {
   "cell_type": "code",
   "execution_count": null,
   "metadata": {},
   "outputs": [],
   "source": [
    "# We can fetch only the date from a datetime\n"
   ]
  },
  {
   "cell_type": "code",
   "execution_count": null,
   "metadata": {},
   "outputs": [],
   "source": [
    "# We can also print only the time\n"
   ]
  },
  {
   "cell_type": "code",
   "execution_count": null,
   "metadata": {},
   "outputs": [],
   "source": [
    "# We can use the `%b` format code the get the abbreviated month name.\n"
   ]
  },
  {
   "cell_type": "markdown",
   "metadata": {},
   "source": [
    "Let's look at a CSV file\n",
    "----\n",
    "First, we'll open the file `2017-weather.csv` using Jupyter Notebook... Take a look at the format. Note that the file has fields that are separated by commas. If a field has a comma in it, it is quoted with double-quote characters.\n",
    "\n",
    "Let's look at [the docs...](https://docs.python.org/3/library/csv.html)"
   ]
  },
  {
   "cell_type": "code",
   "execution_count": null,
   "metadata": {},
   "outputs": [],
   "source": [
    "import csv"
   ]
  },
  {
   "cell_type": "markdown",
   "metadata": {},
   "source": [
    "We're going to take advantage of a feature of Python's 'interator' interface in the next few cells. Python interators provid a consistent mechanism for traversing sequences of data values, and they are utilized very frequently behind the scenes. Here, we'll open the file `2017-weather.csv`, which returns an iterable file handle. Then we'll use the `next` keyword to examine a few rows to the file..."
   ]
  },
  {
   "cell_type": "code",
   "execution_count": null,
   "metadata": {},
   "outputs": [],
   "source": [
    "# Open the file, then print the first 3 rows\n",
    "with open('2017-weather.csv', 'r', encoding='UTF-8') as input_file:\n",
    "    print(next(input_file))\n",
    "    print(next(input_file))\n",
    "    print(next(input_file))\n"
   ]
  },
  {
   "cell_type": "markdown",
   "metadata": {},
   "source": [
    "Python's `csv` module creates a means of reading and writing CSV files, from any iterable source of tabular data. The user can customized the processing, e.g. changing from comma- to tab-separated entries. By default, an Excel-compatible CSV file format is used."
   ]
  },
  {
   "cell_type": "code",
   "execution_count": null,
   "metadata": {},
   "outputs": [],
   "source": [
    "# Open the file, then print the first 3 rows\n",
    "with open('2017-weather.csv', 'r', encoding='UTF-8') as input_file:\n",
    "    rdr = csv.reader(input_file)\n",
    "    print(next(rdr))\n",
    "    print(next(rdr))\n",
    "    print(next(rdr))\n"
   ]
  },
  {
   "cell_type": "markdown",
   "metadata": {},
   "source": [
    "Oftentimes, a CSV file has a header record in the first row that contains column names. In this case, it is convenient to utilize the `DictReader` class from the `csv` module. `DictReader` objects return a dictonary for each row in the file, with keys that match the column names."
   ]
  },
  {
   "cell_type": "code",
   "execution_count": null,
   "metadata": {},
   "outputs": [],
   "source": [
    "with open('2017-weather.csv', 'r', encoding='UTF-8') as input_file:\n",
    "    for row in csv.DictReader(input_file):\n",
    "        print(f\"Date: {row['Date']}  Humidity: {row['HighHum']}\")\n"
   ]
  },
  {
   "cell_type": "markdown",
   "metadata": {},
   "source": [
    "In-Class Exercise: Processing CSV data\n",
    "---\n",
    "Here, write code to build two lists,\n",
    "\n",
    " * dates - a list of `datetime.date` objects containing the dates in the CSV file (`Date` column)\n",
    " * avg_t - a list of float objects containing the daily average temperature (`AvgT` column)\n",
    " "
   ]
  },
  {
   "cell_type": "code",
   "execution_count": null,
   "metadata": {},
   "outputs": [],
   "source": [
    "# Initialize the output lists\n",
    "\n",
    "dates =\n",
    "avg_t = \n",
    "\n",
    "with open('2017-weather.csv', 'r', encoding='UTF-8') as input_file:\n",
    "    for record in csv.reader(input_file):\n",
    "        # Put your code here\n",
    "        "
   ]
  },
  {
   "cell_type": "code",
   "execution_count": null,
   "metadata": {},
   "outputs": [],
   "source": [
    "# Date data\n",
    "print(dates)\n"
   ]
  },
  {
   "cell_type": "code",
   "execution_count": null,
   "metadata": {},
   "outputs": [],
   "source": [
    "# Average temperature data\n",
    "print(avg_t)"
   ]
  },
  {
   "cell_type": "code",
   "execution_count": null,
   "metadata": {},
   "outputs": [],
   "source": [
    "# We can get the maximum and minimum temperatures for the year\n"
   ]
  },
  {
   "cell_type": "code",
   "execution_count": null,
   "metadata": {},
   "outputs": [],
   "source": [
    "# We can also sum up the temperature values\n"
   ]
  },
  {
   "cell_type": "code",
   "execution_count": null,
   "metadata": {},
   "outputs": [],
   "source": [
    "# Or calculate the average temperature\n"
   ]
  },
  {
   "cell_type": "markdown",
   "metadata": {},
   "source": [
    "Smarter processing schemes may be needed. Modify the code to create a third list, `precip`, that contains the daily precipitation as a float object. What happens when you run the code?"
   ]
  },
  {
   "cell_type": "code",
   "execution_count": null,
   "metadata": {},
   "outputs": [],
   "source": [
    "# Put the code in here\n"
   ]
  },
  {
   "cell_type": "markdown",
   "metadata": {},
   "source": [
    "We can fix this by writing a specialized converter function, `scan_precip`"
   ]
  },
  {
   "cell_type": "code",
   "execution_count": null,
   "metadata": {},
   "outputs": [],
   "source": [
    "def scan_precip(s):\n",
    "    '''\n",
    "    Scans a textual precipitation entry, interpreting a trace (\"T\") of rain\n",
    "    as 0.01 inches \n",
    "    '''\n",
    "    pass\n",
    "\n",
    "\n",
    "# Now, let's read the date, average temperature, and precip arrays...\n",
    "\n"
   ]
  },
  {
   "cell_type": "markdown",
   "metadata": {},
   "source": [
    "Basic plotting using matplotlib\n",
    "---\n",
    "The `matplotlib` module adds a Matlab-style plotting framework to Python. We'll just scratch the surface here. "
   ]
  },
  {
   "cell_type": "code",
   "execution_count": null,
   "metadata": {},
   "outputs": [],
   "source": [
    "%matplotlib inline\n",
    "import csv\n",
    "import matplotlib.pyplot as plt"
   ]
  },
  {
   "cell_type": "markdown",
   "metadata": {},
   "source": [
    "Make a line plot of the average temperature..."
   ]
  },
  {
   "cell_type": "code",
   "execution_count": null,
   "metadata": {},
   "outputs": [],
   "source": []
  },
  {
   "cell_type": "markdown",
   "metadata": {},
   "source": [
    "Make a bar graph of the daily precipitation..."
   ]
  },
  {
   "cell_type": "code",
   "execution_count": null,
   "metadata": {},
   "outputs": [],
   "source": []
  },
  {
   "cell_type": "markdown",
   "metadata": {},
   "source": [
    "Grouping data by a key value\n",
    "---\n",
    "\n",
    "Finally, we'll bring all this together by grouping our data according to the month. We're going to scan the file `2017-weather.csv` and build dictionaries of the form\n",
    "\n",
    "`{ 'Jan':[], 'Feb':[], ... }`\n",
    "\n",
    "In which each dictionary key points to a list of the measured values from that month. We won't store the dates, however."
   ]
  },
  {
   "cell_type": "code",
   "execution_count": null,
   "metadata": {},
   "outputs": [],
   "source": []
  }
 ],
 "metadata": {
  "kernelspec": {
   "display_name": "Python 3",
   "language": "python",
   "name": "python3"
  },
  "language_info": {
   "codemirror_mode": {
    "name": "ipython",
    "version": 3
   },
   "file_extension": ".py",
   "mimetype": "text/x-python",
   "name": "python",
   "nbconvert_exporter": "python",
   "pygments_lexer": "ipython3",
   "version": "3.7.4"
  }
 },
 "nbformat": 4,
 "nbformat_minor": 2
}
