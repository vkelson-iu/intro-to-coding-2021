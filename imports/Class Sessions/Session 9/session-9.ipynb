{
 "cells": [
  {
   "cell_type": "markdown",
   "metadata": {},
   "source": [
    "# Session 9\n",
    "\n",
    "Today we'll talk about designing our own custom data types, or *classes*. Classes serve several purposes:\n",
    "\n",
    "  * Classes create data structures that are customized for particular tasks and applications\n",
    "  * Classes can be derived from one another (*inheritance*) or contain data from other classes (*composition*), allowing for the creation of numerous related classes\n",
    "  * Classes provide the ability to do specialized calculations based on their internal data structures\n",
    "  * Classes provide us with the ability to *hide* the implementation of complex analyses, which can simplity application developnent, prevernt future errors, and facilitate future improvements\n",
    "  "
   ]
  },
  {
   "cell_type": "markdown",
   "metadata": {},
   "source": [
    "## A class for a point in the horizontal plane\n",
    "Here's a class that contains a two-dimensional point as an (x,y) pair\n",
    "\n",
    "A class is a type of structured data. Variables may be created as *instances* of the class. When a new instance is created, a special \"dunder\" method, `__init__` is called, providing the values associated with that particular instance. Within a class, the variable `self` points to the specific class instance that is being accessed."
   ]
  },
  {
   "cell_type": "code",
   "execution_count": 1,
   "metadata": {},
   "outputs": [],
   "source": [
    "class Point2D:\n",
    "    '''\n",
    "    Contains a 2D point\n",
    "    '''\n",
    "    \n",
    "    def __init__(self, x, y):\n",
    "        '''\n",
    "        Initializer -- adds the fields to the class instance as floats\n",
    "        '''\n",
    "        self.x = float(x)\n",
    "        self.y = float(y)\n",
    "\n",
    "# Make some points\n",
    "origin = Point2D(0, 0)\n",
    "my_point = Point2D(100, 200)        "
   ]
  },
  {
   "cell_type": "code",
   "execution_count": 2,
   "metadata": {},
   "outputs": [
    {
     "name": "stdout",
     "output_type": "stream",
     "text": [
      "0.0 0.0\n"
     ]
    }
   ],
   "source": [
    "print(origin.x, origin.y)"
   ]
  },
  {
   "cell_type": "code",
   "execution_count": 3,
   "metadata": {},
   "outputs": [
    {
     "data": {
      "text/plain": [
       "<__main__.Point2D at 0x1bc74c2d9c8>"
      ]
     },
     "execution_count": 3,
     "metadata": {},
     "output_type": "execute_result"
    }
   ],
   "source": [
    "origin"
   ]
  },
  {
   "cell_type": "code",
   "execution_count": null,
   "metadata": {},
   "outputs": [],
   "source": [
    "# Now, make another instance\n",
    "my_point = Point2D(100, 200)"
   ]
  },
  {
   "cell_type": "code",
   "execution_count": null,
   "metadata": {},
   "outputs": [],
   "source": [
    "print(my_point.x, my_point.y)"
   ]
  },
  {
   "cell_type": "markdown",
   "metadata": {},
   "source": [
    "## Implementing the *representation* and the *string* methods of the class instances\n",
    "As we've said many times this semester, it's important for Python types to have a way to provide their \"representation\", which by convention is essentially the code which would have created each instance. You'll notice here that the argument `self` is provided to the `__repr__` function. Let's see how it works...\n",
    "\n",
    "A *method* is a function that acts on members of a class. The method code is \"owned\" by the class itself, and takes a reference to the instance as its first argument. It's easier to see it in code than in words..."
   ]
  },
  {
   "cell_type": "code",
   "execution_count": 4,
   "metadata": {},
   "outputs": [],
   "source": [
    "class Point2D:\n",
    "    '''\n",
    "    Contains a 2D point\n",
    "    '''\n",
    "    \n",
    "    def __init__(self, x, y):\n",
    "        '''\n",
    "        Initializer -- adds the fields to the class instance as floats\n",
    "        '''\n",
    "        self.x = float(x)\n",
    "        self.y = float(y)\n",
    "    \n",
    "    def __repr__(self):\n",
    "        return f'Point2D({self.x}, {self.y})'\n",
    "    \n",
    "    def __str__(self):\n",
    "        return f'Point at x={self.x} and y={self.y}'\n",
    "\n",
    "# Make some points\n",
    "origin = Point2D(0, 0)\n",
    "my_point = Point2D(100, 200)"
   ]
  },
  {
   "cell_type": "code",
   "execution_count": 5,
   "metadata": {},
   "outputs": [],
   "source": [
    "my_point = Point2D(100, 200)"
   ]
  },
  {
   "cell_type": "code",
   "execution_count": 6,
   "metadata": {},
   "outputs": [
    {
     "data": {
      "text/plain": [
       "Point2D(100.0, 200.0)"
      ]
     },
     "execution_count": 6,
     "metadata": {},
     "output_type": "execute_result"
    }
   ],
   "source": [
    "# Now, when I ask Python to dump out the value of my_point, I get this...\n",
    "my_point"
   ]
  },
  {
   "cell_type": "code",
   "execution_count": 7,
   "metadata": {},
   "outputs": [
    {
     "data": {
      "text/plain": [
       "'Point at x=100.0 and y=200.0'"
      ]
     },
     "execution_count": 7,
     "metadata": {},
     "output_type": "execute_result"
    }
   ],
   "source": [
    "# Here's the string representation\n",
    "str(my_point)"
   ]
  },
  {
   "cell_type": "code",
   "execution_count": 8,
   "metadata": {},
   "outputs": [
    {
     "name": "stdout",
     "output_type": "stream",
     "text": [
      "Point at x=100.0 and y=200.0\n"
     ]
    }
   ],
   "source": [
    "# print() utilizes the string representation\n",
    "print(my_point)"
   ]
  },
  {
   "cell_type": "code",
   "execution_count": null,
   "metadata": {},
   "outputs": [],
   "source": [
    "# If we want the default implementation, use `repr`\n",
    "print(repr(my_point))"
   ]
  },
  {
   "cell_type": "markdown",
   "metadata": {},
   "source": [
    "## Let's make our point be able to calculate the distance to another point\n",
    "\n",
    "We'll add a method called distance() that computes the distance between two points"
   ]
  },
  {
   "cell_type": "code",
   "execution_count": 9,
   "metadata": {},
   "outputs": [],
   "source": [
    "from math import sqrt\n",
    "\n",
    "class Point2D:\n",
    "    '''\n",
    "    Contains a 2D point\n",
    "    '''\n",
    "    \n",
    "    def __init__(self, x, y):\n",
    "        '''\n",
    "        Initializer -- adds the fields to the class instance as floats\n",
    "        '''\n",
    "        self.x = float(x)\n",
    "        self.y = float(y)\n",
    "    \n",
    "    def __repr__(self):\n",
    "        return f'Point({self.x}, {self.y})'\n",
    "    \n",
    "    def __str__(self):\n",
    "        return f'Point at x={self.x} and y={self.y}'\n",
    "\n",
    "    def distance(self, other):\n",
    "        '''\n",
    "        Returns the distance between the points 'self' and 'other'\n",
    "        '''\n",
    "        dx = other.x - self.x\n",
    "        dy = other.y - self.y\n",
    "        return sqrt(dx * dx + dy * dy)\n",
    "    \n",
    "# Make some points\n",
    "origin = Point2D(0, 0)\n",
    "my_point = Point2D(100, 200)"
   ]
  },
  {
   "cell_type": "markdown",
   "metadata": {},
   "source": [
    "How do methods work? Well, the `distance` method implemented here belongs to the Point2D class. It is technically called `Point2D.distance` and takes two `Point2D` objects. If the object `obj` is an instance of the `Point2D` class, Python automatically converts `obj.distance(other_obj)` to `Point2D.distance(obj, other_obj)`. That all happens behind the scenes, and you don't have to deal with it."
   ]
  },
  {
   "cell_type": "code",
   "execution_count": 10,
   "metadata": {},
   "outputs": [
    {
     "data": {
      "text/plain": [
       "223.60679774997897"
      ]
     },
     "execution_count": 10,
     "metadata": {},
     "output_type": "execute_result"
    }
   ],
   "source": [
    "# Calling a method the usual way\n",
    "my_point.distance(origin)"
   ]
  },
  {
   "cell_type": "code",
   "execution_count": 11,
   "metadata": {},
   "outputs": [
    {
     "data": {
      "text/plain": [
       "223.60679774997897"
      ]
     },
     "execution_count": 11,
     "metadata": {},
     "output_type": "execute_result"
    }
   ],
   "source": [
    "# Calling a method explicitly\n",
    "Point2D.distance(my_point, origin)"
   ]
  },
  {
   "cell_type": "code",
   "execution_count": 12,
   "metadata": {},
   "outputs": [],
   "source": [
    "list_of_points = [Point2D(100, 100), Point2D(20, 500), Point2D(50, 90)]"
   ]
  },
  {
   "cell_type": "code",
   "execution_count": 17,
   "metadata": {},
   "outputs": [],
   "source": [
    "list_of_points.sort(key=lambda z, origin=Point2D(10,400): origin.distance(z))"
   ]
  },
  {
   "cell_type": "code",
   "execution_count": 18,
   "metadata": {},
   "outputs": [
    {
     "data": {
      "text/plain": [
       "[Point(20.0, 500.0), Point(50.0, 90.0), Point(100.0, 100.0)]"
      ]
     },
     "execution_count": 18,
     "metadata": {},
     "output_type": "execute_result"
    }
   ],
   "source": [
    "list_of_points"
   ]
  },
  {
   "cell_type": "code",
   "execution_count": null,
   "metadata": {},
   "outputs": [],
   "source": []
  }
 ],
 "metadata": {
  "kernelspec": {
   "display_name": "Python 3",
   "language": "python",
   "name": "python3"
  },
  "language_info": {
   "codemirror_mode": {
    "name": "ipython",
    "version": 3
   },
   "file_extension": ".py",
   "mimetype": "text/x-python",
   "name": "python",
   "nbconvert_exporter": "python",
   "pygments_lexer": "ipython3",
   "version": "3.7.4"
  }
 },
 "nbformat": 4,
 "nbformat_minor": 4
}
