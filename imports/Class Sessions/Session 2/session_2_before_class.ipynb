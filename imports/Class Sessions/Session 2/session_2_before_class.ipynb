{
 "cells": [
  {
   "cell_type": "markdown",
   "metadata": {
    "collapsed": true,
    "slideshow": {
     "slide_type": "fragment"
    }
   },
   "source": [
    "Welcome to Python!\n",
    "==================\n",
    "\n",
    "Let's get started! We'll begin by talking about data types... and variables... and objects...\n",
    "\n",
    "In Python, we like to call a piece of data an \"object\". A Python object may be something simple, like a numerical value. But it can also hold much more, a text \"string\", the entire contents of a book, a row from a spreadsheet, or even a connection to a web site thousands of miles away. We'll talk a lot about objects of many types, so let's not worry about the details for now. Just be aware that you can use object types that come with Python and its many libraries, or make up your very own.\n"
   ]
  },
  {
   "cell_type": "markdown",
   "metadata": {},
   "source": [
    "Values and Data Types\n",
    "--------------------------------\n",
    "\n",
    "Python provides a rich variety of data types that represent textual, numerical, and logical data values. While languages like Java and C require the programmer to *explicitly* state what the ``type`` of a data item is, Python attempts to determine the type of each data item, or *object* by inspecting the information that was entered by the programmer. \n",
    "\n",
    "A *scalar* value is one that contains exactly one entry, for example a numeric value or a *string* of text. Here we will examine some of Python's *scalar* data types.\n",
    "\n",
    "In Jupyter Notebook, we can enter Python code into a cell and execute it by holding down the ``SHIFT`` key and pressing the ``ENTER`` key, a sequence that we'll call ``SHIFT-ENTER``. We'll begin with several cells that contain Python code that represents scalar values. Note: in Python, any line of text that has a ``#`` character as its first printable character is a *comment*. Comments are placed in the text to document how code works, or to explain special circumstances in the code. We'll learn a lot about how to write good comments this spring!\n",
    "\n",
    "There are 5 basic scalar data types in Python:\n",
    "\n",
    "  * Integer (``int``) values are numeric values that are whole numbers. ``int`` values can have as\n",
    "    many significant figures as the programmer desires, and calculations can be made exact, as we'll\n",
    "    see shortly.\n",
    "  * Floating-point (``float``) values are numeric values that may have a fractional part. Intenally, \n",
    "    ``float`` values are represented differently than ``int`` values, and they may not be exact. \n",
    "    We will discuss the small inaccuracies and *round-off* errors that may occur later, when we \n",
    "    discuss mathematical calulations ore thoroughly.\n",
    "  * Character string (``str``) values contain printable text characters. In Python 3, all ``str`` \n",
    "    entries internally utilize the Unicode character set, which allows us to put any manner of text\n",
    "    in an ``str`` value, even emojis or non-English characters. While an ``str`` value may be separated\n",
    "    into a collection of its individual characters, each of the characters will be treated as an \n",
    "    ``str`` value. Python does not possess a separate data type for a single character, as C and Java do.\n",
    "  * Boolean (``bool``) values contain logical information. ``bool`` values may be either ``True`` or \n",
    "    ``False``. Python offers an array of capabilities for manipulating ``bool`` values and symbolic logic.\n",
    "  * And there's one weird one. There is a special scalar value that indicates that there is no data entry\n",
    "    at all. This type is called ``None``, and can be utilized in a variety of ways to indicate that a \n",
    "    data value is omitted, in a manner similar to a missing value in a spreadsheet. We'll see how ``None``\n",
    "    can be used as the course goes along.\n",
    "\n",
    "The next few cells show how these scalar types are entered in Python code. Note that when you hit \n",
    "``SHIFT-ENTER`` in these cells, Python will create a Python object and print out its value."
   ]
  },
  {
   "cell_type": "code",
   "execution_count": null,
   "metadata": {},
   "outputs": [],
   "source": [
    "# Integer (int) values are entered as a sequence of numeric characters without a decimal point\n",
    "# here's an 'int' value\n",
    "4"
   ]
  },
  {
   "cell_type": "code",
   "execution_count": null,
   "metadata": {},
   "outputs": [],
   "source": [
    "# To enter a negative 'int' value, preceed it by a '-' character.\n",
    "-4"
   ]
  },
  {
   "cell_type": "code",
   "execution_count": null,
   "metadata": {},
   "outputs": [],
   "source": [
    "# 'int' values may be of arbitrary precision, and are stored exactly.\n",
    "2124309814093741978716374698721631746128736156861"
   ]
  },
  {
   "cell_type": "code",
   "execution_count": null,
   "metadata": {},
   "outputs": [],
   "source": [
    "# 'int' values may be entered in binary, or base 2, as ones and zeroes.\n",
    "0b1010"
   ]
  },
  {
   "cell_type": "code",
   "execution_count": null,
   "metadata": {},
   "outputs": [],
   "source": [
    "# 'int' values may be entered in octal, or base 8.\n",
    "0o0012"
   ]
  },
  {
   "cell_type": "code",
   "execution_count": null,
   "metadata": {},
   "outputs": [],
   "source": [
    "# 'int' values may also be entered as hexadecimal, or base-16 values.\n",
    "0x000a"
   ]
  },
  {
   "cell_type": "code",
   "execution_count": null,
   "metadata": {},
   "outputs": [],
   "source": [
    "# Floating-point (float) values are entered as a sequence of numerical characters with a \n",
    "# decimal point. For example, we can write the value of pi, to four decimal places, as\n",
    "3.1416"
   ]
  },
  {
   "cell_type": "code",
   "execution_count": null,
   "metadata": {},
   "outputs": [],
   "source": [
    "# To write a negative 'float' value, preceed it with a '-' character.\n",
    "# Remember Avogadro's number from high-school chemistry?\n",
    "6.02e23"
   ]
  },
  {
   "cell_type": "code",
   "execution_count": null,
   "metadata": {},
   "outputs": [],
   "source": [
    "# Negative powers of ten in scientific notation may also be used\n",
    "1.0e-3"
   ]
  },
  {
   "cell_type": "code",
   "execution_count": null,
   "metadata": {},
   "outputs": [],
   "source": [
    "# Remember, floating-point numbers have a limited number of significant digits. Remember\n",
    "# Our long 'int' value from above? Here it is as a 'float'...\n",
    "2124309814093741978716374698721631746128736156861."
   ]
  },
  {
   "cell_type": "code",
   "execution_count": null,
   "metadata": {},
   "outputs": [],
   "source": [
    "# Character strings (str) are contained within pairs of quotation marks, either \n",
    "# single-quotes or double qoutes\n",
    "# A string with single quotes\n",
    "'this is a string'"
   ]
  },
  {
   "cell_type": "code",
   "execution_count": null,
   "metadata": {},
   "outputs": [],
   "source": [
    "# A string with double quotes\n",
    "\"this is also a string\""
   ]
  },
  {
   "cell_type": "code",
   "execution_count": null,
   "metadata": {},
   "outputs": [],
   "source": [
    "# A multi-line string can be made by enclosing the string in triple-quotes\n",
    "'''This is a \n",
    "string that\n",
    "spans multiple \n",
    "lines!'''"
   ]
  },
  {
   "cell_type": "code",
   "execution_count": null,
   "metadata": {},
   "outputs": [],
   "source": [
    "# Note that the string '\\n' means \"new line\"\n",
    "# \n",
    "# Question: Why does Python allow either single-quotes and double quotes?\n",
    "#"
   ]
  },
  {
   "cell_type": "code",
   "execution_count": null,
   "metadata": {},
   "outputs": [],
   "source": [
    "# A Bool value can be true...\n",
    "True"
   ]
  },
  {
   "cell_type": "code",
   "execution_count": null,
   "metadata": {},
   "outputs": [],
   "source": [
    "# ...or False.\n",
    "False"
   ]
  },
  {
   "cell_type": "code",
   "execution_count": null,
   "metadata": {},
   "outputs": [],
   "source": [
    "# Finally, that weird value \"None\"\n",
    "# Notice that when we print out the value of None, we get nothing!\n",
    "None"
   ]
  },
  {
   "cell_type": "markdown",
   "metadata": {},
   "source": [
    "Expressions\n",
    "-----------\n",
    "\n",
    "A Python expression is defined in the course textbook as follows:\n",
    "\n",
    "*An expression is a combination of values, variables, operators, and calls to functions. Expressions need to be evaluated. If you ask Python to print an expression, the interpreter evaluates the expression and displays the result.*\n",
    "\n",
    "We may write arithmetic expressions or call functions in an expression. We'll discuss functions later.\n",
    "\n",
    "In the REPL, any expression that you type is exvaluated and the resulting value is printed."
   ]
  },
  {
   "cell_type": "markdown",
   "metadata": {},
   "source": [
    "Congratulations! You've just run a computer program. Unsurprisingly, `fred` has the value of 99.\n",
    "\n",
    "As you'll see, fred is generically a number, and there are things we can do with numbers, like simple mathmatical operations. See the next cell..."
   ]
  },
  {
   "cell_type": "code",
   "execution_count": null,
   "metadata": {},
   "outputs": [],
   "source": [
    "# A simple mathematical expression\n",
    "\n",
    "100 * 5"
   ]
  },
  {
   "cell_type": "code",
   "execution_count": null,
   "metadata": {},
   "outputs": [],
   "source": [
    "# All the basic math functions are included...\n",
    "# Note thaat parenthesized expressions are computed first, followed by \n",
    "# Multiplication, division, addition, and subtraction, in that order.\n",
    "# What is the value of the expression\n",
    "2 + 5 * (7 - 2 ) / 10"
   ]
  },
  {
   "cell_type": "code",
   "execution_count": null,
   "metadata": {},
   "outputs": [],
   "source": [
    "# Note that the exponentiation operator is **\n",
    "\n",
    "print(3 ** 3)\n",
    "\n",
    "print(4 ** 4)\n"
   ]
  },
  {
   "cell_type": "code",
   "execution_count": null,
   "metadata": {},
   "outputs": [],
   "source": [
    "# And the modulo (remainder) function is %\n",
    "\n",
    "24 % 5"
   ]
  },
  {
   "cell_type": "code",
   "execution_count": null,
   "metadata": {},
   "outputs": [],
   "source": [
    "# Integer division... By default, when one integer is divided by another, the result\n",
    "# is a floating-point number. That ensures that (a / b) * b is equal to a.\n",
    "# We can also use the '//' operator for integer division. The result is forced to be an \n",
    "# integer, and all decimal places are le"
   ]
  },
  {
   "cell_type": "code",
   "execution_count": null,
   "metadata": {},
   "outputs": [],
   "source": [
    "# Hey -- that number has a decimal point in it! It's a \"floating-point\" number,\n",
    "# referred to as a \"float\" in Python. We'll see more about those soon!\n",
    "\n",
    "# We'll talk about \"integer division\" in class... you can put your example code here...\n",
    "\n",
    "29 // 5"
   ]
  },
  {
   "cell_type": "code",
   "execution_count": null,
   "metadata": {},
   "outputs": [],
   "source": [
    "# Remember that pure integer arithmetic can have as many characters as are needed...\n",
    "\n",
    "127 ** 127"
   ]
  },
  {
   "cell_type": "code",
   "execution_count": null,
   "metadata": {},
   "outputs": [],
   "source": [
    "# Python has logical operators also... We often utilize 'and' and 'or'.\n",
    "\n",
    "False and False"
   ]
  },
  {
   "cell_type": "code",
   "execution_count": null,
   "metadata": {},
   "outputs": [],
   "source": [
    "False and True"
   ]
  },
  {
   "cell_type": "code",
   "execution_count": null,
   "metadata": {},
   "outputs": [],
   "source": [
    "True and True"
   ]
  },
  {
   "cell_type": "code",
   "execution_count": null,
   "metadata": {},
   "outputs": [],
   "source": [
    "True or False"
   ]
  },
  {
   "cell_type": "markdown",
   "metadata": {},
   "source": [
    "Variables, Assignments, and Statements\n",
    "=================================\n",
    "\n",
    "In Python, a variable is simply a name that is given to the result of an expression. \n",
    "We use the *assignment operator* ``=`` to assign a name to a value. A statement is a\n",
    "line of code that executes a single step in the execution of the algorithm that the \n",
    "code implements."
   ]
  },
  {
   "cell_type": "code",
   "execution_count": null,
   "metadata": {},
   "outputs": [],
   "source": [
    "# Assign the value 100 to the variable x\n",
    "\n",
    "x = 100\n",
    "\n",
    "# Now, let the REPL print the value of 'x'\n",
    "x"
   ]
  },
  {
   "cell_type": "code",
   "execution_count": null,
   "metadata": {},
   "outputs": [],
   "source": [
    "# Jupyter notebook rememberts the values of variables as long as the notebook remains open\n",
    "\n",
    "x = x + 3\n",
    "x"
   ]
  },
  {
   "cell_type": "code",
   "execution_count": null,
   "metadata": {},
   "outputs": [],
   "source": [
    "# We also have operators that perform an arithmetic function on a variable and stores the \n",
    "# result in the same variable...\n",
    "\n",
    "# Add one to the value of x and name the new result x...\n",
    "x = x + 1\n",
    "x"
   ]
  },
  {
   "cell_type": "code",
   "execution_count": null,
   "metadata": {},
   "outputs": [],
   "source": [
    "# Add one to x using the in-place addition operator\n",
    "x += 1\n",
    "x"
   ]
  },
  {
   "cell_type": "code",
   "execution_count": null,
   "metadata": {},
   "outputs": [],
   "source": [
    "# You can do some \"math\" with strings. The '+' operator concatenates two strings\n",
    "\n",
    "my_string = \"Beginning\" + \" of the \" + \"End\"\n",
    "my_string"
   ]
  },
  {
   "cell_type": "code",
   "execution_count": null,
   "metadata": {},
   "outputs": [],
   "source": [
    "# You can also multiply a string by an integer to repeat it a number of times.\n",
    "\n",
    "\"A\" * 20"
   ]
  },
  {
   "cell_type": "code",
   "execution_count": null,
   "metadata": {},
   "outputs": [],
   "source": [
    "# Variable names should describe what the variable means. If more than one word \n",
    "# is needed, write the name in lowercase, and separate the words with underscore '_'\n",
    "# characters\n",
    "\n",
    "days_in_january = 31\n",
    "\n",
    "days_in_january"
   ]
  },
  {
   "cell_type": "markdown",
   "metadata": {},
   "source": [
    "An introduction to Python functions\n",
    "---------------------------------------------------\n",
    "\n",
    "In Python, a \"function\" is a stored piece of code that can be used over and over to perform some operation. One obvious type of function is a mathematical function, such as the sine, cosine, or natural logarithm. One of the best features of Python is its extensive set of \"libraries\", collections of functions and data types for a wide variety of tasks. We utilize the 'def' keyword to define a function.\n",
    "\n",
    "Here, we'll just introduce the concept of a function. We'll learn a LOT more later. One of the greatest \n",
    "features of Python is the extensive collection of 'libraries' containing functions that we may use in our\n",
    "coding projects."
   ]
  },
  {
   "cell_type": "code",
   "execution_count": null,
   "metadata": {},
   "outputs": [],
   "source": [
    "# Define a function. Note that the 'def' statement requires a trailing colon, and is \n",
    "# followed by an indented block of code that implements the function.\n",
    "#\n",
    "# Notice the triple-quoted string that follows the 'def' statement. It is a documentation\n",
    "# string, or doc-string. This allows us to tell the user how to utilize the function.\n",
    "#\n",
    "# The 'return' statement provides the result of the function to the code that called \n",
    "# the function\n",
    "\n",
    "def double(x):\n",
    "    '''\n",
    "    Returns the value of 'x', doubled.\n",
    "    '''\n",
    "    return x * 2\n"
   ]
  },
  {
   "cell_type": "code",
   "execution_count": null,
   "metadata": {},
   "outputs": [],
   "source": [
    "# The 'def' statement doesn't compute a value. Instead, it creates a new name and assigns\n",
    "# The block of code to that name for future use.\n",
    "\n",
    "# We \"call\" the function by writing an expression that includes the function name, \n",
    "# followed by its arguments between parentheses... \n",
    "\n",
    "double(5)"
   ]
  },
  {
   "cell_type": "code",
   "execution_count": null,
   "metadata": {},
   "outputs": [],
   "source": [
    "# The result of a function call may be part of any expression\n",
    "\n",
    "ounces_in_one_cup = 8\n",
    "ounces_in_two_cups = double(8)\n",
    "\n",
    "ounces_in_two_cups"
   ]
  },
  {
   "cell_type": "code",
   "execution_count": null,
   "metadata": {},
   "outputs": [],
   "source": [
    "# Any expression may be used as an argument to the function, even an expression that\n",
    "# contains a function call.\n",
    "\n",
    "double(double(9) + 3)"
   ]
  },
  {
   "cell_type": "markdown",
   "metadata": {},
   "source": [
    "In-class Exercise\n",
    "----------------\n",
    "\n",
    "The temperature in Celsius degrees may be converted to Fahrenheit degrees using the\n",
    "formula\n",
    "\n",
    "$$ F = 1.8 \\times C + 32 $$\n",
    "\n",
    "Where F is the temperature in Fahrenheit and C is the temperature in Celsius.\n",
    "\n",
    "Write a function `celsius_to_farenheit` that takes an argument that is the temperature\n",
    "in degrees Celsius and returns the temperature in Fahrenheit degrees."
   ]
  },
  {
   "cell_type": "code",
   "execution_count": null,
   "metadata": {},
   "outputs": [],
   "source": [
    "def celsius_to_fahrenheit(degrees_c):\n",
    "    '''\n",
    "    Put your code in here, replacing the 'pass' keyword ('pass' implements a \n",
    "    function that does nothing and returns nothing)\n",
    "    '''\n",
    "    pass\n"
   ]
  },
  {
   "cell_type": "code",
   "execution_count": null,
   "metadata": {},
   "outputs": [],
   "source": [
    "# Try some values to test your new function...\n"
   ]
  },
  {
   "cell_type": "code",
   "execution_count": null,
   "metadata": {},
   "outputs": [],
   "source": []
  }
 ],
 "metadata": {
  "kernelspec": {
   "name": "pycharm-54cbfa74",
   "language": "python",
   "display_name": "PyCharm (intro-to-coding-2021)"
  },
  "language_info": {
   "codemirror_mode": {
    "name": "ipython",
    "version": 3
   },
   "file_extension": ".py",
   "mimetype": "text/x-python",
   "name": "python",
   "nbconvert_exporter": "python",
   "pygments_lexer": "ipython3",
   "version": "3.7.4"
  }
 },
 "nbformat": 4,
 "nbformat_minor": 2
}