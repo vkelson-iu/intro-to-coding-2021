{
 "cells": [
  {
   "cell_type": "markdown",
   "metadata": {},
   "source": [
    "Session 4: Lots of Text Processing\n",
    "=====\n",
    "\n",
    "Today, we'll learn another new data type and some more fun things we can do with lists. We'll then move along into some strategies for text processing, and finish up reading Moby-Dick... sort of.\n",
    "\n",
    "Specific topics:\n",
    "\n",
    " * Conditional expressions (expressions that result in `bool` results)\n",
    " * More fun with the `list` data type\n",
    " * The `set` data type\n",
    " * The `if-elif-else` conditional execution statement\n",
    " * Opening a text file and reading its contents \n",
    " * Introducing the `with` statement for file processing\n",
    " * Using string functions to modify strings and slice them up\n",
    " \n",
    " "
   ]
  },
  {
   "cell_type": "markdown",
   "metadata": {},
   "source": [
    "Conditional Expressions\n",
    "------\n",
    "\n",
    "A conditional expression is an expression that results in a `bool` value. Some obvious conditional expressions are the ones that compare values.\n",
    "\n",
    " * `==` is the *equality* operator stating that two values are equal\n",
    " * `!=` is the *inequality* operator stating that two values are not equal\n",
    " * `>` is the *greater than* operator\n",
    " * `>=` is the *greater than or equal to* operator\n",
    " * `<` is the *less than* operator\n",
    " * `<=` is the *less than or equal to* operator\n",
    " \n",
    " Recall the `and` and `or` operators that do symbolic math on `bool` values that we discussed last time.\n",
    " \n",
    " We'll talk about some special conditional operators in the coming weeks."
   ]
  },
  {
   "cell_type": "code",
   "execution_count": null,
   "metadata": {},
   "outputs": [],
   "source": [
    "# Some things to compare to...\n",
    "\n",
    "int_value = 100\n",
    "float_value = 2.9\n",
    "str_value = 'string'\n",
    "some_ints = (1, 2, 3)"
   ]
  },
  {
   "cell_type": "code",
   "execution_count": null,
   "metadata": {},
   "outputs": [],
   "source": [
    "# Equality test\n"
   ]
  },
  {
   "cell_type": "code",
   "execution_count": null,
   "metadata": {},
   "outputs": [],
   "source": [
    "# Comparison\n"
   ]
  },
  {
   "cell_type": "code",
   "execution_count": null,
   "metadata": {},
   "outputs": [],
   "source": [
    "# String comparison\n"
   ]
  },
  {
   "cell_type": "code",
   "execution_count": null,
   "metadata": {},
   "outputs": [],
   "source": [
    "# Tuple comparison\n"
   ]
  },
  {
   "cell_type": "markdown",
   "metadata": {},
   "source": [
    "More features of the `list` data type\n",
    "-----\n",
    "There are a few new features of lists that we'll be needing for our text processing work. \n",
    "\n",
    " * The `in` operator\n",
    " * Looking up the position of a value using the `index` method\n",
    " * Counting up matching entries in a list using the `count` method\n",
    " * Adding new items to a list with the `append` and `insert` methods\n",
    " * Using the `del` operator and the `remove` method to remove entries\n"
   ]
  },
  {
   "cell_type": "code",
   "execution_count": null,
   "metadata": {},
   "outputs": [],
   "source": [
    "# Note the extra , in the list... why should I do that?\n",
    "\n",
    "words = ['this', 'is', 'a', 'collection', 'of', 'words', 'kaboom', 'is',]"
   ]
  },
  {
   "cell_type": "code",
   "execution_count": null,
   "metadata": {},
   "outputs": [],
   "source": [
    "# The `in` operator lets us know if a value lies within the list, resulting in a bool\n",
    "'kaboom' in words"
   ]
  },
  {
   "cell_type": "code",
   "execution_count": null,
   "metadata": {},
   "outputs": [],
   "source": [
    "# Lets look for a word that we KNOW isn't in there...\n",
    "\n",
    "fred in words"
   ]
  },
  {
   "cell_type": "code",
   "execution_count": null,
   "metadata": {},
   "outputs": [],
   "source": [
    "# If we want to know the position of a value in the list, use the `index` method\n",
    "\n",
    "words.index('a')"
   ]
  },
  {
   "cell_type": "code",
   "execution_count": null,
   "metadata": {},
   "outputs": [],
   "source": [
    "# Change the indefinite article to the definite one\n",
    "\n",
    "idx = words.index('a')\n",
    "words[idx] = 'the'\n",
    "words"
   ]
  },
  {
   "cell_type": "code",
   "execution_count": null,
   "metadata": {},
   "outputs": [],
   "source": [
    "# Count up the number of times we find some entries in there\n",
    "\n",
    "words.count('is')"
   ]
  },
  {
   "cell_type": "code",
   "execution_count": null,
   "metadata": {},
   "outputs": [],
   "source": [
    "# What if a word isn't in there?\n",
    "\n",
    "words.count('apogee')"
   ]
  },
  {
   "cell_type": "code",
   "execution_count": null,
   "metadata": {},
   "outputs": [],
   "source": [
    "# We may add an entry to the end of a list with the 'append' method\n",
    "\n",
    "words.append('gopher')\n",
    "words"
   ]
  },
  {
   "cell_type": "code",
   "execution_count": null,
   "metadata": {},
   "outputs": [],
   "source": [
    "# We can insert a new item in the list using the `insert` method\n",
    "\n",
    "words.insert(0, 'peanut')\n",
    "words"
   ]
  },
  {
   "cell_type": "code",
   "execution_count": null,
   "metadata": {},
   "outputs": [],
   "source": [
    "# Remove the first entry in the list\n",
    "\n",
    "del words[0]\n",
    "words"
   ]
  },
  {
   "cell_type": "code",
   "execution_count": null,
   "metadata": {},
   "outputs": [],
   "source": [
    "# We can use the 'is' method to remove a value (if there are multiple entries,\n",
    "# it removes the first one)\n",
    "\n",
    "words.remove('is')\n",
    "\n",
    "words"
   ]
  },
  {
   "cell_type": "markdown",
   "metadata": {},
   "source": [
    "More about the `in` operator\n",
    "----\n",
    "\n",
    "Guess what? As you might expect, the `in` operator also works with tuples.\n",
    "\n",
    "The `in` operator also works with dictionaries, but it tests the *keys*, not the *values*. Let's see!\n"
   ]
  },
  {
   "cell_type": "code",
   "execution_count": null,
   "metadata": {},
   "outputs": [],
   "source": [
    "# Here's a tuple to test\n",
    "numbers = (1, 4, 9, 12, -3)\n",
    "\n",
    "# look for -4\n",
    "-4 in numbers"
   ]
  },
  {
   "cell_type": "code",
   "execution_count": null,
   "metadata": {},
   "outputs": [],
   "source": [
    "# Look for 9\n",
    "\n",
    "9 in numbers"
   ]
  },
  {
   "cell_type": "code",
   "execution_count": null,
   "metadata": {},
   "outputs": [],
   "source": [
    "# Here's a dictionary for testing\n",
    "\n",
    "d = {'a':9, 'b':100, 'd':-9,}\n",
    "\n",
    "'z' in d"
   ]
  },
  {
   "cell_type": "code",
   "execution_count": null,
   "metadata": {},
   "outputs": [],
   "source": [
    "# Look for something that's in there\n",
    "\n",
    "'a' in d"
   ]
  },
  {
   "cell_type": "code",
   "execution_count": null,
   "metadata": {},
   "outputs": [],
   "source": [
    "# Exercise: What if we want to see if the number -9 is in the values associated with\n",
    "# the dictionary?\n",
    "\n"
   ]
  },
  {
   "cell_type": "markdown",
   "metadata": {},
   "source": [
    "The `set` data type\n",
    "------\n",
    "\n",
    "A `set` in python is similar to the `dict` type, except it only has keys -- no values. \n",
    "\n",
    "Another way to say it is... a `set` is like a list, except it can't have duplicate values.\n",
    "\n",
    "We write a set as a sequence of values between curly braces.\n",
    "\n",
    "Sets offer some nice set operations, like `union` and `intersection`. \n",
    "\n",
    "We can add items to a set with the `add` method.\n"
   ]
  },
  {
   "cell_type": "code",
   "execution_count": null,
   "metadata": {},
   "outputs": [],
   "source": [
    "# Let's build a set!\n",
    "\n",
    "my_set = {'today', 'is', 'thursday', 'whee', 'sunday'}\n",
    "type(my_set)"
   ]
  },
  {
   "cell_type": "code",
   "execution_count": null,
   "metadata": {},
   "outputs": [],
   "source": [
    "# It will not surprise you to know that the `in` keyword works with `set` objects\n",
    "\n",
    "'thursday' in my_set"
   ]
  },
  {
   "cell_type": "code",
   "execution_count": null,
   "metadata": {},
   "outputs": [],
   "source": [
    "# let's build another set!\n",
    "days = {'monday', 'tuesday', 'wednesday', 'thursday', 'friday', 'saturday', 'sunday'}"
   ]
  },
  {
   "cell_type": "code",
   "execution_count": null,
   "metadata": {},
   "outputs": [],
   "source": [
    "# The union of the sets?\n",
    "\n",
    "my_set.union(days)"
   ]
  },
  {
   "cell_type": "code",
   "execution_count": null,
   "metadata": {},
   "outputs": [],
   "source": [
    "# The intersection of the sets?\n",
    "\n",
    "my_set.intersection(days)"
   ]
  },
  {
   "cell_type": "markdown",
   "metadata": {},
   "source": [
    "Conditional Execution\n",
    "-----\n",
    "\n",
    "We can use the `if`, `elif` (that is, else-if), and `else` keywords to execute code based on boolean tests (e.g. from conditional expressions). Here comes an example of a portion of a factoring algorithm..."
   ]
  },
  {
   "cell_type": "code",
   "execution_count": null,
   "metadata": {},
   "outputs": [],
   "source": [
    "# Factoring an integer value (version 1) -- check for multiples of 5\n",
    "\n",
    "def factor_check_5(value):\n",
    "    '''\n",
    "    Checks to see if 5 is a prime factor of 'value'. Returns a tuple (None, value)\n",
    "    if the value is not divisible by 5, else a tuple of the (5, value/5) \n",
    "    '''\n",
    "    if value % 5 == 0:\n",
    "        return (5, value // 5)\n",
    "    else:\n",
    "        return (None, value)\n",
    "    \n",
    "print(f'Check 15 {factor_check_5(15)}')\n",
    "print(f'Check 12 {factor_check_5(12)}')\n",
    "    "
   ]
  },
  {
   "cell_type": "code",
   "execution_count": null,
   "metadata": {},
   "outputs": [],
   "source": [
    "# We can add checks for 2 and 3 as factors...\n",
    "\n",
    "def factor_check_235(value):\n",
    "    '''\n",
    "    Returns a tuple with None and the value if the value is not divisible by 2, 3, or 5, \n",
    "    else a tuple of the divisor and the quotient.\n",
    "    '''\n",
    "    if value % 5 == 0:\n",
    "        return (5, value // 5)\n",
    "    elif value % 3 == 0:\n",
    "        return (3, value // 3)\n",
    "    elif value % 2 == 0:\n",
    "        return (2, value // 2)\n",
    "    else:\n",
    "        return (None, value)\n",
    "    \n",
    "print(f'Check 15 {factor_check_235(15)}')\n",
    "print(f'Check 12 {factor_check_235(12)}')\n",
    "print(f'Check 11 {factor_check_235(11)}')\n",
    "    "
   ]
  },
  {
   "cell_type": "code",
   "execution_count": null,
   "metadata": {},
   "outputs": [],
   "source": [
    "# Exercise -- use the `for` and `if-elif-else` blocks to check the prime \n",
    "# factors 2, 3, 5, 7, 11, 13, 17, and 19\n",
    "\n",
    "def factor_check(value):\n",
    "    '''\n",
    "    Returns a tuple with None and the value if the value is not divisible by 2, 3, or 5, \n",
    "    else a tuple of the divisor and the quotient\n",
    "    '''\n",
    "    \n",
    "    # Put your code here!\n",
    "    pass\n",
    "\n",
    "print(f'Check 15 {factor_check(15)}')\n",
    "print(f'Check 12 {factor_check(12)}')\n",
    "print(f'Check 11 {factor_check(11)}')\n",
    "print(f'Check 38 {factor_check(38)}')\n",
    "    "
   ]
  },
  {
   "cell_type": "markdown",
   "metadata": {},
   "source": [
    "Opening a text file and processing its contents with a `for` loop\n",
    "----\n",
    "\n",
    "There's a lot of detail to be learned later about this code, and we'll deal with most of it later. \n",
    "\n",
    "With text files, the `open` function connects a variable to a file as a handle for reading data, line by line. We use the `encoding=` syntax to tell Python how to interpret the Unicode characters in the file.\n",
    "\n",
    "The `with` block is a way to protect our code from leaving files open if the code that does the reading crashes. As I said, we'll deal with it all later. For now, it's sufficient to say that the code below is the appropriate way to process a text file:\n",
    "\n",
    " 1. Open the file and connect it to a variable within a `with` block.\n",
    " 1. Process the file in a `for` loop.\n",
    " 1. Finish the block and the file is automatically closed by Python.\n",
    " "
   ]
  },
  {
   "cell_type": "code",
   "execution_count": null,
   "metadata": {},
   "outputs": [],
   "source": [
    "# Count up the number of lines in the file containing the book \"Moby-Dick\"\n",
    "\n",
    "with open('moby-dick.txt', encoding='UTF-8') as input_file:\n",
    "    line_count = 0\n",
    "    for line in input_file:\n",
    "        line_count += 1\n",
    "print(line_count)"
   ]
  },
  {
   "cell_type": "markdown",
   "metadata": {},
   "source": [
    "Using string functions to modify strings and slice them up\n",
    "-----\n",
    "\n",
    "We'll use some string methods to process our files.\n",
    "\n",
    " * strip -- Removes leading and trailing whitespace\n",
    " * startswith -- Checks the beginning of a string\n",
    " * lower -- Converts all characters to lower-case\n",
    " * replace -- replaces substrings with other substrings\n",
    " "
   ]
  },
  {
   "cell_type": "code",
   "execution_count": null,
   "metadata": {},
   "outputs": [],
   "source": [
    "# Remove leading and training whitespace...\n",
    "s = '   This was a day we had all waited for.   '\n",
    "s.strip()"
   ]
  },
  {
   "cell_type": "code",
   "execution_count": null,
   "metadata": {},
   "outputs": [],
   "source": [
    "'cow pig sheep'.startswith('cow')"
   ]
  },
  {
   "cell_type": "code",
   "execution_count": null,
   "metadata": {},
   "outputs": [],
   "source": [
    "'Roger Rabbit'.lower()"
   ]
  },
  {
   "cell_type": "markdown",
   "metadata": {},
   "source": [
    "Chaining Function Calls\n",
    "----\n",
    "In Python, most of the functions that can be used to process collections and strings return a new collection or string object. For example, we can replace the word 'a' with 'the' in a sentence using the `replace` method."
   ]
  },
  {
   "cell_type": "code",
   "execution_count": null,
   "metadata": {},
   "outputs": [],
   "source": [
    "# Here's a string -- replace 'a' with 'the' (note the spaces)\n",
    "s = 'This was a day we had all waited for.'\n",
    "\n",
    "s.replace(' a ', ' the ')"
   ]
  },
  {
   "cell_type": "code",
   "execution_count": null,
   "metadata": {},
   "outputs": [],
   "source": [
    "# Note that the original string is intact\n",
    "\n"
   ]
  },
  {
   "cell_type": "code",
   "execution_count": null,
   "metadata": {},
   "outputs": [],
   "source": [
    "# If we want to change the string, we need to assign the result of the `replace` function\n",
    "\n"
   ]
  },
  {
   "cell_type": "markdown",
   "metadata": {},
   "source": [
    "If we also wanted to replace 'was' with 'is' and 'had' to 'have', we can do this..."
   ]
  },
  {
   "cell_type": "code",
   "execution_count": null,
   "metadata": {},
   "outputs": [],
   "source": [
    "s = s.replace(' a ', ' the ')\n",
    "s = s.replace(' was ', ' is ')\n",
    "s = s.replace(' had ', ' have ')\n",
    "s"
   ]
  },
  {
   "cell_type": "markdown",
   "metadata": {},
   "source": [
    "Since the result of the `replace` function can then perform another processing step, we can simply \"chain\" the operations."
   ]
  },
  {
   "cell_type": "code",
   "execution_count": null,
   "metadata": {},
   "outputs": [],
   "source": [
    "s = s.replace(' a ', ' the ').replace(' was ', ' is ').replace(' had ', ' have ')\n",
    "s"
   ]
  },
  {
   "cell_type": "markdown",
   "metadata": {},
   "source": [
    "Parentheseized expressions can span across more than one line, so the chained expression can be written more clearly this way..."
   ]
  },
  {
   "cell_type": "code",
   "execution_count": null,
   "metadata": {},
   "outputs": [],
   "source": [
    "s = ( s.replace(' a ', ' the ')\n",
    "       .replace(' was ', ' is ')\n",
    "       .replace(' had ', ' have ')\n",
    "    )\n",
    "s"
   ]
  },
  {
   "cell_type": "markdown",
   "metadata": {},
   "source": [
    "Accumulating some calculations in a loop\n",
    "----\n",
    "Sometimes, we'll want to process a sequence of values, and accumulate some calculation or operation.\n",
    "\n",
    "In this case, we can often use this coding pattern:\n",
    "\n",
    " 1. Initialize the result\n",
    " 1. begin to loop over the sequence\n",
    "    1. Update the result using some operation\n",
    "    1. Continue looping\n",
    " 1. When the loop is finished, we have the final result."
   ]
  },
  {
   "cell_type": "code",
   "execution_count": null,
   "metadata": {},
   "outputs": [],
   "source": [
    "# Example: sum up the values in a list\n",
    "\n",
    "my_list = [1, 2, 3, 4, 5]\n",
    "\n",
    "# Initialize the sum\n",
    "total = 0\n",
    "\n",
    "# Now the loop\n",
    "for i in my_list:\n",
    "    total += i\n",
    "    \n",
    "# And... we're done!\n",
    "print(total)"
   ]
  },
  {
   "cell_type": "markdown",
   "metadata": {},
   "source": [
    "Python has more powerful ways to do this -- we'll see them later!\n",
    "\n",
    "Now, let's take all we've learned and count up the lines with text in Moby Dick!"
   ]
  },
  {
   "cell_type": "code",
   "execution_count": null,
   "metadata": {},
   "outputs": [],
   "source": [
    "# Process \"Moby-Dick\"... removing the Chapter and Epliogue headings along the way...\n",
    "\n",
    "with open('moby-dick.txt', encoding='UTF-8') as input_file:\n",
    "    pass"
   ]
  },
  {
   "cell_type": "code",
   "execution_count": null,
   "metadata": {},
   "outputs": [],
   "source": []
  },
  {
   "cell_type": "code",
   "execution_count": null,
   "metadata": {},
   "outputs": [],
   "source": []
  },
  {
   "cell_type": "code",
   "execution_count": null,
   "metadata": {},
   "outputs": [],
   "source": []
  },
  {
   "cell_type": "code",
   "execution_count": null,
   "metadata": {},
   "outputs": [],
   "source": []
  }
 ],
 "metadata": {
  "kernelspec": {
   "display_name": "Python 3",
   "language": "python",
   "name": "python3"
  },
  "language_info": {
   "codemirror_mode": {
    "name": "ipython",
    "version": 3
   },
   "file_extension": ".py",
   "mimetype": "text/x-python",
   "name": "python",
   "nbconvert_exporter": "python",
   "pygments_lexer": "ipython3",
   "version": "3.7.4"
  }
 },
 "nbformat": 4,
 "nbformat_minor": 2
}
