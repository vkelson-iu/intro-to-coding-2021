{
 "cells": [
  {
   "cell_type": "markdown",
   "metadata": {},
   "source": [
    "Session 7\n",
    "===\n",
    "\n",
    "Today we'll dig deeper into Python's iteration protocol, which offers a very powerful mechanism for traversing collections of data. In general, there are lots and lots of cases where we need code that does calculations on collections of data, and this is especially true when we're developing code for data analysis.\n",
    "\n",
    "In our analytical work, it's extremely common for use to encounter things like\n",
    " * Tabular data with many rows and columns\n",
    " * Numerous files, each one containing the results of a single analysis\n",
    " * Streams of data, either arriving as text or from instrumentation\n",
    "In all these cases, we need to *iterate* over the data sets.\n"
   ]
  },
  {
   "cell_type": "markdown",
   "metadata": {},
   "source": [
    "What we've seen so far...\n",
    "---\n",
    "Up to now, we've taken a very simplistic approach to iteration, using simple looping structures. Today, we'll review those and then talk about more-advanced mechanisms that Python uses for iteration. This yields some powerful constructs that can make your code faster, smaller, less error-prone, and -- most importantly -- more expressive and easier to read."
   ]
  },
  {
   "cell_type": "markdown",
   "metadata": {},
   "source": [
    "A recurring theme\n",
    "---\n",
    "A recurring theme we have seen is making a new collection based on data in an input collection."
   ]
  },
  {
   "cell_type": "code",
   "execution_count": null,
   "metadata": {},
   "outputs": [],
   "source": [
    "# Here's some input data\n",
    "input_list = [-9, -4, 8, 0, 22, -1, 7, -4, 9, 0,]\n",
    "label_list = ['A', 'B', 'C', 'D', 'E', 'F', 'G', 'H', 'I', 'J']\n",
    "world_series_winners = {\n",
    "              2014: 'Giants',\n",
    "              2015: 'Royals',\n",
    "              2002: 'Angels',\n",
    "              2016: 'Cubs',\n",
    "              2009: 'Yankees',\n",
    "              2017: 'Astros',\n",
    "              2011: 'Cardinals',\n",
    "              2018: 'Red Sox',\n",
    "              2019: 'Nationals',\n",
    "              1988: 'Dodgers',\n",
    "              2001: 'Diamondbacks',\n",
    "              }"
   ]
  },
  {
   "cell_type": "code",
   "execution_count": null,
   "metadata": {},
   "outputs": [],
   "source": [
    "# Make a list of the square of the values in `input_list`\n",
    "output_list = []\n",
    "for i in input_list:\n",
    "    output_list.append(i * i)\n",
    "\n",
    "print('The squares are', output_list)"
   ]
  },
  {
   "cell_type": "code",
   "execution_count": null,
   "metadata": {},
   "outputs": [],
   "source": [
    "# We have also traversed dictionaries by their keys\n",
    "for year in world_series_winners:\n",
    "    print(year, world_series_winners[year])"
   ]
  },
  {
   "cell_type": "code",
   "execution_count": null,
   "metadata": {},
   "outputs": [],
   "source": [
    "# It's also possible to loop over dictionary values\n",
    "for team in world_series_winners.values():\n",
    "    print(team)"
   ]
  },
  {
   "cell_type": "code",
   "execution_count": null,
   "metadata": {},
   "outputs": [],
   "source": [
    "# We also have seen looping over key-value pairs using items()\n",
    "for year, team in world_series_winners.items():\n",
    "    print(year, team)"
   ]
  },
  {
   "cell_type": "markdown",
   "metadata": {},
   "source": [
    "List Comprehensions\n",
    "---\n",
    "Let's look at these examples using a new type of expression, a *list comprehension*."
   ]
  },
  {
   "cell_type": "code",
   "execution_count": null,
   "metadata": {},
   "outputs": [],
   "source": [
    "squares = "
   ]
  },
  {
   "cell_type": "code",
   "execution_count": null,
   "metadata": {},
   "outputs": [],
   "source": [
    "sum_of_squares = "
   ]
  },
  {
   "cell_type": "markdown",
   "metadata": {},
   "source": [
    "The `zip` function\n",
    "---\n",
    "\n",
    "`zip` weaves two (or more) sequences into a sequence of tuples\n"
   ]
  },
  {
   "cell_type": "code",
   "execution_count": null,
   "metadata": {},
   "outputs": [],
   "source": [
    "for tu in zip(label_list, input_list):\n",
    "   print(tu)"
   ]
  },
  {
   "cell_type": "markdown",
   "metadata": {},
   "source": [
    "Dictionary comprehension\n",
    "---\n",
    "A dictionary comprehension builds a dictionary from keys and values"
   ]
  },
  {
   "cell_type": "code",
   "execution_count": null,
   "metadata": {},
   "outputs": [],
   "source": [
    "my_dict = { k: v for k, v in zip(label_list, input_list) }\n",
    "my_dict\n",
    "    "
   ]
  },
  {
   "cell_type": "markdown",
   "metadata": {},
   "source": [
    "Another recurring theme\n",
    "---\n",
    "Another pattern we've seen a lot so far is accumulating values from an iterable sequence."
   ]
  },
  {
   "cell_type": "code",
   "execution_count": null,
   "metadata": {},
   "outputs": [],
   "source": [
    "# Calculate the sum of squares\n",
    "sum_of_squares = 0\n",
    "for i in input_list:\n",
    "    sum_of_squares += i * i\n",
    "print('The sum of squares is', sum_of_squares)"
   ]
  },
  {
   "cell_type": "markdown",
   "metadata": {},
   "source": [
    "Where we're heading: A generic approach to looping over data\n",
    "---\n",
    "Python's iterator protocol provides a very generic approach to looping over data. One interesting feature is that the approach lets us traverse large data sets efficiently, even occasionally allowing us to do so without ever loading the entire dataset into memory!"
   ]
  },
  {
   "cell_type": "markdown",
   "metadata": {},
   "source": [
    "Iteration archetype: the `range` function\n",
    "---\n",
    "Up to now, all our looping structures have traversed collections that are already populated with data. What if we want to loop over a sequence of integers from 0 to 9? We do this with the `range` function. "
   ]
  },
  {
   "cell_type": "code",
   "execution_count": null,
   "metadata": {},
   "outputs": [],
   "source": [
    "# Values from range() use the same values as for slicing text or lists\n",
    "for i in range(10):\n",
    "    print(i)"
   ]
  },
  {
   "cell_type": "code",
   "execution_count": null,
   "metadata": {},
   "outputs": [],
   "source": [
    "# We can also make a range from one value to another\n",
    "for i in range(-5, 5):\n",
    "    print(i)"
   ]
  },
  {
   "cell_type": "code",
   "execution_count": null,
   "metadata": {},
   "outputs": [],
   "source": [
    "# We can also skip entries...\n",
    "for i in range(-5, 5, 2):\n",
    "    print(i)"
   ]
  },
  {
   "cell_type": "markdown",
   "metadata": {},
   "source": [
    "But let's take a closer look. Let's create a variable and assign a range of entries to it. Note: this code may not do what you expect!"
   ]
  },
  {
   "cell_type": "code",
   "execution_count": null,
   "metadata": {},
   "outputs": [],
   "source": [
    "# Make a range from 0 to 3\n",
    "my_range = range(4)\n",
    "print(my_range)"
   ]
  },
  {
   "cell_type": "markdown",
   "metadata": {},
   "source": [
    "You might have expected to see a list there! It's not. It's a `range` object..."
   ]
  },
  {
   "cell_type": "code",
   "execution_count": null,
   "metadata": {},
   "outputs": [],
   "source": [
    "type(my_range)"
   ]
  },
  {
   "cell_type": "markdown",
   "metadata": {},
   "source": [
    "A `range` object is an object called a *generator*. Generators are a special kind of object that supports iteration. Under the hood, this is implemented very simply. A generator yields up a value from the sequence each time we go through a `for` loop. "
   ]
  },
  {
   "cell_type": "code",
   "execution_count": null,
   "metadata": {},
   "outputs": [],
   "source": [
    "for i in my_range:\n",
    "    print(i)"
   ]
  },
  {
   "cell_type": "markdown",
   "metadata": {},
   "source": [
    "How it works, and how we can take advantage\n",
    "---\n",
    "What's special is that the `range` object never actually creates a list of the values in the range. So a range over ten million integers takes exactly the same amount of memory used for a range of four integers. This is a powerful idea, and Python allows us to write our own generators by providing the `yield` keyword. A function that utilizes `yield` is automatically a generator function. When the function is accessed again while processing the `for` loop, execution proceeds from the statement after the `yield`.\n",
    "\n",
    "Let's use the `while` loop to make our own `range` function:"
   ]
  },
  {
   "cell_type": "code",
   "execution_count": null,
   "metadata": {},
   "outputs": [],
   "source": [
    "def range_generator(end_value):\n",
    "    '''\n",
    "    Creates a simple range() function using our own generator\n",
    "    '''\n",
    "    current_value = 0\n",
    "    while True:\n",
    "        yield current_value\n",
    "        current_value += 1\n",
    "        if current_value == end_value:\n",
    "            break"
   ]
  },
  {
   "cell_type": "code",
   "execution_count": null,
   "metadata": {},
   "outputs": [],
   "source": [
    "for i in range_generator(4):\n",
    "    print(i)"
   ]
  },
  {
   "cell_type": "markdown",
   "metadata": {},
   "source": [
    "Isn't that neat?\n",
    "---\n",
    "I'll accept that you may not find that very interesting... Let's create a more-useful generator and have a look at Moby Dick. We're now going to write a generator that automatically processes the file, yielding up each of the words in the book, in sequence."
   ]
  },
  {
   "cell_type": "code",
   "execution_count": null,
   "metadata": {
    "scrolled": false
   },
   "outputs": [],
   "source": [
    "# Process \"Moby-Dick\"... removing the Chapter and Epliogue headings along the way...\n",
    "# also force lower case and remove punctuation\n",
    "\n",
    "with open('moby-dick.txt', 'r', encoding='UTF-8') as input_file:\n",
    "    clean_text = []\n",
    "    for line in input_file:\n",
    "        line = ( line.strip()\n",
    "                     .lower()\n",
    "                     .replace('.', '')\n",
    "                     .replace('-', ' ')\n",
    "                     .replace(',', '')\n",
    "                     .replace(\"'\", '')\n",
    "                     .replace('\"', '')\n",
    "                     .replace('“', '')\n",
    "                     .replace('_', '')\n",
    "                     .replace('?', '')\n",
    "                     .replace('!', '')\n",
    "                     .replace(':', '')\n",
    "                     .replace(';', '')\n",
    "               )\n",
    "        \n",
    "        if line.startswith('chapter') or line.startswith('epilogue'):\n",
    "            # 'continue' finishes this pass through the loop\n",
    "            continue\n",
    "            \n",
    "        if len(line) == 0:\n",
    "            continue\n",
    "            \n",
    "        clean_text.append(line)\n",
    "        \n",
    "clean_text"
   ]
  },
  {
   "cell_type": "markdown",
   "metadata": {},
   "source": [
    "Let's convert it into a generator..."
   ]
  },
  {
   "cell_type": "code",
   "execution_count": null,
   "metadata": {},
   "outputs": [],
   "source": [
    "# Here's a generator for processing ANY book, one word at a time...\n",
    "\n",
    "def words(book):\n",
    "    '''\n",
    "    Generator that yields each of the words in the book provided\n",
    "    '''\n",
    "    with open(book, 'r', encoding='UTF-8') as input_file:\n",
    "        for line in input_file:\n",
    "            line = ( line.strip()\n",
    "                         .lower()\n",
    "                         .replace('.', '')\n",
    "                         .replace('-', ' ')\n",
    "                         .replace(',', '')\n",
    "                         .replace(\"'\", '')\n",
    "                         .replace('\"', '')\n",
    "                         .replace('“', '')\n",
    "                         .replace('_', '')\n",
    "                         .replace('?', '')\n",
    "                         .replace('!', '')\n",
    "                         .replace(':', '')\n",
    "                         .replace(';', '')\n",
    "                         .replace('&', '')\n",
    "                   )\n",
    "\n",
    "            if line.startswith('chapter') or line.startswith('epilogue'):\n",
    "                # 'continue' finishes this pass through the loop\n",
    "                continue\n",
    "\n",
    "            if len(line) == 0:\n",
    "                continue\n",
    "\n",
    "            for word in line.split():\n",
    "                yield word"
   ]
  },
  {
   "cell_type": "code",
   "execution_count": null,
   "metadata": {},
   "outputs": [],
   "source": [
    "for word in words('moby-dick.txt'):\n",
    "    print(word)"
   ]
  },
  {
   "cell_type": "markdown",
   "metadata": {},
   "source": [
    "You may not find that very interesting... But now let's look at how we can utilize it to do the analyses from Homework 2."
   ]
  },
  {
   "cell_type": "code",
   "execution_count": null,
   "metadata": {},
   "outputs": [],
   "source": [
    "# Count all the words... we'll do this in a better way shortly\n",
    "count = 0\n",
    "for word in words('moby-dick.txt'):\n",
    "    count += 1\n",
    "print(count)"
   ]
  },
  {
   "cell_type": "code",
   "execution_count": null,
   "metadata": {},
   "outputs": [],
   "source": [
    "# Count the `the` entries\n",
    "the = 0\n",
    "for word in words('moby-dick.txt'):\n",
    "    if word == 'the':\n",
    "        the += 1\n",
    "print(the)"
   ]
  },
  {
   "cell_type": "code",
   "execution_count": null,
   "metadata": {},
   "outputs": [],
   "source": [
    "# Number of unique entries\n",
    "uniques = set(words('moby-dick.txt'))\n",
    "len(uniques)"
   ]
  },
  {
   "cell_type": "code",
   "execution_count": null,
   "metadata": {},
   "outputs": [],
   "source": [
    "# The longest word\n",
    "longest = ''\n",
    "for word in words('moby-dick.txt'):\n",
    "    if len(word) > len(longest):\n",
    "        longest = word\n",
    "print(longest)"
   ]
  },
  {
   "cell_type": "markdown",
   "metadata": {},
   "source": [
    "Let's re-load the 2017 weather data set and have a look at it using *list comprehensions*."
   ]
  },
  {
   "cell_type": "code",
   "execution_count": null,
   "metadata": {},
   "outputs": [],
   "source": [
    "%matplotlib inline\n",
    "import matplotlib.pyplot as plt\n",
    "import csv\n",
    "from datetime import datetime\n",
    "\n",
    "def scan_precip(s):\n",
    "    '''\n",
    "    Scans a textual precipitation entry, interpreting a trace (\"T\") of rain\n",
    "    as 0.005 inches \n",
    "    '''\n",
    "    if s == 'T':\n",
    "        return 0.005\n",
    "    return float(s)\n",
    "\n",
    "\n",
    "# Initialize the output dictionaries\n",
    "\n",
    "low_t = {}\n",
    "avg_t = {}\n",
    "high_t = {}\n",
    "precip = {}\n",
    "\n",
    "with open('2017-weather.csv', 'r', encoding='UTF-8') as input_file:\n",
    "    for record in csv.DictReader(input_file):\n",
    "        ts = datetime.strptime(record['Date'], '%m/%d/%y')\n",
    "        key = datetime.strftime(ts, '%b')\n",
    "        if key not in low_t:\n",
    "            low_t[key] = []\n",
    "            avg_t[key] = []\n",
    "            high_t[key] = []\n",
    "            precip[key] = []\n",
    "        low_t[key].append(float(record['LowT']))\n",
    "        avg_t[key].append(float(record['AvgT']))\n",
    "        high_t[key].append(float(record['HighT']))\n",
    "        precip[key].append(scan_precip(record['Precip']))\n",
    "        "
   ]
  },
  {
   "cell_type": "code",
   "execution_count": null,
   "metadata": {},
   "outputs": [],
   "source": [
    "# Use a loop to make a list of month names\n",
    "month_names = []\n",
    "for month in avg_t:\n",
    "    month_names.append(month)\n",
    "print(month_names)"
   ]
  },
  {
   "cell_type": "code",
   "execution_count": null,
   "metadata": {},
   "outputs": [],
   "source": [
    "# Here's a list comprehension version\n",
    "month_names = [ month for month in avg_t ]\n",
    "print(month_names)"
   ]
  },
  {
   "cell_type": "code",
   "execution_count": null,
   "metadata": {},
   "outputs": [],
   "source": [
    "# Here's a list of monthly low temperatures\n",
    "lows = [ min(low_t[month]) for month in low_t ]\n",
    "print(lows)"
   ]
  },
  {
   "cell_type": "code",
   "execution_count": null,
   "metadata": {},
   "outputs": [],
   "source": [
    "# That's a little shorter using the values() method\n",
    "lows = [ min(temps) for temps in low_t.values() ]\n",
    "print(lows)"
   ]
  },
  {
   "cell_type": "code",
   "execution_count": null,
   "metadata": {},
   "outputs": [],
   "source": [
    "# We can also write a dictionary comprehension using the items() method\n",
    "low_dict = { month: min(temps) for month, temps in low_t.items() }\n",
    "print(low_dict)"
   ]
  },
  {
   "cell_type": "code",
   "execution_count": null,
   "metadata": {},
   "outputs": [],
   "source": [
    "# We can use a filtering expression... Which months never fell below freezing?\n",
    "no_freeze = [ month for month in low_t if min(low_t[month]) > 32 ]\n",
    "print(no_freeze)"
   ]
  },
  {
   "cell_type": "markdown",
   "metadata": {},
   "source": [
    "Generator expressions\n",
    "---\n",
    "A generator expression does what a list comprehension does, only it never populates a list. It just yields up results."
   ]
  },
  {
   "cell_type": "code",
   "execution_count": null,
   "metadata": {},
   "outputs": [],
   "source": []
  },
  {
   "cell_type": "markdown",
   "metadata": {},
   "source": [
    "Let's go back to Moby-Dick..."
   ]
  },
  {
   "cell_type": "code",
   "execution_count": null,
   "metadata": {},
   "outputs": [],
   "source": [
    "# Count the words (parentheses mark a generator expression)\n",
    "sum( ( 1 for w in words('moby-dick.txt') ) )"
   ]
  },
  {
   "cell_type": "code",
   "execution_count": null,
   "metadata": {},
   "outputs": [],
   "source": [
    "# Shorthand way in a function call\n",
    "sum(1 for w in words('moby-dick.txt'))"
   ]
  },
  {
   "cell_type": "code",
   "execution_count": null,
   "metadata": {},
   "outputs": [],
   "source": [
    "# Count the 'the's\n",
    "sum(1 for w in words('moby-dick.txt') if w == 'the')"
   ]
  },
  {
   "cell_type": "code",
   "execution_count": null,
   "metadata": {},
   "outputs": [],
   "source": []
  },
  {
   "cell_type": "markdown",
   "metadata": {},
   "source": [
    "Sorting sequences\n",
    "---\n",
    "\n",
    "Let's look at some sorting applications and the `sorted` generator."
   ]
  },
  {
   "cell_type": "code",
   "execution_count": null,
   "metadata": {},
   "outputs": [],
   "source": []
  }
 ],
 "metadata": {
  "kernelspec": {
   "display_name": "Python 3",
   "language": "python",
   "name": "python3"
  },
  "language_info": {
   "codemirror_mode": {
    "name": "ipython",
    "version": 3
   },
   "file_extension": ".py",
   "mimetype": "text/x-python",
   "name": "python",
   "nbconvert_exporter": "python",
   "pygments_lexer": "ipython3",
   "version": "3.7.4"
  }
 },
 "nbformat": 4,
 "nbformat_minor": 2
}
