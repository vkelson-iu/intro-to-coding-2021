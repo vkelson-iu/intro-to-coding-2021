{
 "cells": [
  {
   "cell_type": "markdown",
   "metadata": {},
   "source": [
    "# Session 10\n",
    "\n",
    "Today, we'll wrap up the first 5 weeks with a little more about a special kind of class, called a 'data class'. A simple application of the data class will be included here. I think you'll like it!\n",
    "\n",
    "But first, a couple of new ideas... A few of you have asked me about the `args` and `kwargs` function arguments that you see sometimes in examples or in library modules (like matplotlib). I'll explain that, because we'll have an application today!"
   ]
  },
  {
   "cell_type": "markdown",
   "metadata": {},
   "source": [
    "## Functions with an arbitrary number of arguments\n",
    "Sometimes, we might want to have a function that can take a number of arguments that isn't known ahead of time. Here's an instance -- maybe we want to calculate the average of a bunch of arbitrary values, like this:"
   ]
  },
  {
   "cell_type": "code",
   "execution_count": 4,
   "metadata": {},
   "outputs": [],
   "source": [
    "def average(values):\n",
    "    return sum(values) / len(values)"
   ]
  },
  {
   "cell_type": "code",
   "execution_count": 5,
   "metadata": {},
   "outputs": [
    {
     "ename": "TypeError",
     "evalue": "average() takes 1 positional argument but 3 were given",
     "output_type": "error",
     "traceback": [
      "\u001b[1;31m---------------------------------------------------------------------------\u001b[0m",
      "\u001b[1;31mTypeError\u001b[0m                                 Traceback (most recent call last)",
      "\u001b[1;32m<ipython-input-5-51c4f85249a8>\u001b[0m in \u001b[0;36m<module>\u001b[1;34m\u001b[0m\n\u001b[1;32m----> 1\u001b[1;33m \u001b[0maverage\u001b[0m\u001b[1;33m(\u001b[0m\u001b[1;36m1\u001b[0m\u001b[1;33m,\u001b[0m\u001b[1;36m2\u001b[0m\u001b[1;33m,\u001b[0m\u001b[1;36m3\u001b[0m\u001b[1;33m)\u001b[0m\u001b[1;33m\u001b[0m\u001b[1;33m\u001b[0m\u001b[0m\n\u001b[0m",
      "\u001b[1;31mTypeError\u001b[0m: average() takes 1 positional argument but 3 were given"
     ]
    }
   ],
   "source": [
    "average(1,2,3)"
   ]
  },
  {
   "cell_type": "markdown",
   "metadata": {},
   "source": [
    "So, what if we want this code to work with an arbitrary number of arguments? We can use a special syntax in the argument list. \n",
    "```\n",
    "def f(*args):\n",
    "    '''\n",
    "    A function of an arbitrary number of arguments. The arguments will be stored in order\n",
    "    in the list `args`.\n",
    "    '''\n",
    "    pass\n",
    "```\n",
    "So, we'll use the `*args` argument to fix our `average` function."
   ]
  },
  {
   "cell_type": "code",
   "execution_count": 6,
   "metadata": {},
   "outputs": [],
   "source": [
    "def average(*args):\n",
    "    '''\n",
    "    Returns the average of an arbitrary number of argument values\n",
    "    '''\n",
    "    \n",
    "    # Note that the list `args` has all our arguments\n",
    "    return sum(args) / len(args)"
   ]
  },
  {
   "cell_type": "code",
   "execution_count": 7,
   "metadata": {},
   "outputs": [
    {
     "data": {
      "text/plain": [
       "2.0"
      ]
     },
     "execution_count": 7,
     "metadata": {},
     "output_type": "execute_result"
    }
   ],
   "source": [
    "average(1,2,3)"
   ]
  },
  {
   "cell_type": "code",
   "execution_count": 8,
   "metadata": {},
   "outputs": [
    {
     "data": {
      "text/plain": [
       "3.0"
      ]
     },
     "execution_count": 8,
     "metadata": {},
     "output_type": "execute_result"
    }
   ],
   "source": [
    "average(1,2,3,4,5,)"
   ]
  },
  {
   "cell_type": "markdown",
   "metadata": {},
   "source": [
    "## What about keyword arguments?\n",
    "\n",
    "We can use the special argument `**kwargs` to accept an arbitrary number of keyword arguments. \n",
    "They appear as a dictionary inside the function. This is used a lot in come libraries. A good \n",
    "example is matplotlib, which has numerous options that are utilized in various ways in the many\n",
    "functions in the package. Often, matplotlib functions scan over the keyword arguments looking \n",
    "for optional parameters.\n",
    "\n",
    "As an example, have a look at this function. it just prints out the keyword arguments."
   ]
  },
  {
   "cell_type": "code",
   "execution_count": 10,
   "metadata": {},
   "outputs": [],
   "source": [
    "def print_keyword_arguments(**kwargs):\n",
    "    print(kwargs)"
   ]
  },
  {
   "cell_type": "code",
   "execution_count": 11,
   "metadata": {},
   "outputs": [
    {
     "name": "stdout",
     "output_type": "stream",
     "text": [
      "{'month': 'February', 'century': 21, 'weather': 'lousy'}\n"
     ]
    }
   ],
   "source": [
    "print_keyword_arguments(month='February', century=21, weather='lousy')"
   ]
  },
  {
   "cell_type": "markdown",
   "metadata": {},
   "source": [
    "## We can use both the `*args` and `**kwargs`, first procesing positional arguments into `args` and then keyword arguments into `kwargs`\n",
    "\n",
    "This is a common usage in some libraries."
   ]
  },
  {
   "cell_type": "code",
   "execution_count": 12,
   "metadata": {},
   "outputs": [],
   "source": [
    "def func(*args, **kwargs):\n",
    "    print(f\"Positional arguments: {args}\")\n",
    "    print(f\"Keyword arguments:    {kwargs}\")"
   ]
  },
  {
   "cell_type": "code",
   "execution_count": 13,
   "metadata": {},
   "outputs": [
    {
     "name": "stdout",
     "output_type": "stream",
     "text": [
      "Positional arguments: (1, 2, 3, 5)\n",
      "Keyword arguments:    {'sunshine': 'not much', 'temperature': 'cold'}\n"
     ]
    }
   ],
   "source": [
    "func(1, 2, 3, 5, sunshine='not much', temperature='cold')"
   ]
  },
  {
   "cell_type": "markdown",
   "metadata": {},
   "source": [
    "## Similarly, we can unpack a list of arguments into a function like this"
   ]
  },
  {
   "cell_type": "code",
   "execution_count": 16,
   "metadata": {},
   "outputs": [],
   "source": [
    "def silly_print(a, b, c, d):\n",
    "    print(a)\n",
    "    print(b)\n",
    "    print(c)\n",
    "    print(d)\n",
    "    "
   ]
  },
  {
   "cell_type": "code",
   "execution_count": 17,
   "metadata": {},
   "outputs": [
    {
     "name": "stdout",
     "output_type": "stream",
     "text": [
      "1\n",
      "2\n",
      "3\n",
      "4\n"
     ]
    }
   ],
   "source": [
    "silly_print(*[1,2,3,4])"
   ]
  },
  {
   "cell_type": "markdown",
   "metadata": {},
   "source": [
    "# On to data classes!\n",
    "Data classes are a feature that was added in Python 3.7. It's a handy way to make new classes that are simply \"holders\" for data values. We use the Python 'decorator' syntax to provide special abilities to a new Python class. The decorator automatically sets up the various attributes of the new class, and also builds the `__init__`, `__repr__`, `__str__`, and `__eq__` functions for us. The `__eq__` method compares two objects for equality.\n",
    "Data classes also use Python 3's new type hinting syntax to specify data types."
   ]
  },
  {
   "cell_type": "code",
   "execution_count": 19,
   "metadata": {},
   "outputs": [],
   "source": [
    "from dataclasses import dataclass\n",
    "\n",
    "# A data class for City of Bloomington solar facilities\n",
    "\n",
    "@dataclass\n",
    "class SolarFacility:\n",
    "    FacilityLocation: str = ''\n",
    "    SystemSizekW: float = 0.0\n",
    "    MapKey: str = ''\n",
    "    Group: str = ''\n",
    "    Comments: str = ''\n",
    "    Latitude: float = None\n",
    "    Longitude: float = None\n"
   ]
  },
  {
   "cell_type": "code",
   "execution_count": null,
   "metadata": {},
   "outputs": [],
   "source": []
  },
  {
   "cell_type": "markdown",
   "metadata": {},
   "source": [
    "And that's it! Let's process the input file 'citysolarfacilitiespv.csv' and make a list of the facilities."
   ]
  },
  {
   "cell_type": "code",
   "execution_count": 21,
   "metadata": {},
   "outputs": [],
   "source": [
    "import csv\n",
    "\n",
    "with open('citysolarfacilitiespv.csv', 'r', encoding='UTF-8') as input_file:\n",
    "    solar_facilities = [ SolarFacility(*r) for r in csv.reader(input_file) ]"
   ]
  },
  {
   "cell_type": "code",
   "execution_count": 41,
   "metadata": {},
   "outputs": [
    {
     "name": "stdout",
     "output_type": "stream",
     "text": [
      "SolarFacility(FacilityLocation='FacilityLocation', SystemSizekW='SystemSizekW', MapKey='MapKey', Group='Group', Comments='Comments', Latitude='Latitude', Longitude='Longitude')\n"
     ]
    }
   ],
   "source": [
    "print(solar_facilities[0])"
   ]
  },
  {
   "cell_type": "code",
   "execution_count": 40,
   "metadata": {},
   "outputs": [
    {
     "name": "stdout",
     "output_type": "stream",
     "text": [
      "Showers City Hall Roof 299.2\n",
      "Showers City Hall Covered Parking 97\n",
      "Police Department 76.1\n",
      "Police Training Center 52.9\n",
      "Fire Station #1 - 4th & Lincoln 48.5\n",
      "Fire Station #2 - 3rd & Fairfield 52.9\n",
      "Fire Station #3 - 11th & Woodlawn 13.9\n",
      "Fire Station #4 - 3rd & Jefferson  10.7\n",
      "Sanitation Building 25.8\n",
      "Fleet Maintenance Facility 52.9\n",
      "Street Department Covered Parking 22.7\n",
      "Downtown Transit Center 143.6\n",
      "Morton Street Garage 22.7\n",
      "Walnut Street Parking Garage 22.7\n"
     ]
    }
   ],
   "source": [
    "# What sites belong to the Public Works department?\n",
    "\n"
   ]
  },
  {
   "cell_type": "code",
   "execution_count": 35,
   "metadata": {},
   "outputs": [
    {
     "data": {
      "text/plain": [
       "941.6"
      ]
     },
     "execution_count": 35,
     "metadata": {},
     "output_type": "execute_result"
    }
   ],
   "source": []
  },
  {
   "cell_type": "code",
   "execution_count": null,
   "metadata": {},
   "outputs": [],
   "source": []
  }
 ],
 "metadata": {
  "kernelspec": {
   "display_name": "Python 3",
   "language": "python",
   "name": "python3"
  },
  "language_info": {
   "codemirror_mode": {
    "name": "ipython",
    "version": 3
   },
   "file_extension": ".py",
   "mimetype": "text/x-python",
   "name": "python",
   "nbconvert_exporter": "python",
   "pygments_lexer": "ipython3",
   "version": "3.7.4"
  }
 },
 "nbformat": 4,
 "nbformat_minor": 2
}
