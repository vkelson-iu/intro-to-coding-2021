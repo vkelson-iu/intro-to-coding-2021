{
 "cells": [
  {
   "cell_type": "markdown",
   "metadata": {},
   "source": [
    "Session 5\n",
    "=====\n",
    "\n",
    "Today, we'll talk more about functions, modules, and the fabulous Python Standar Library!\n",
    "\n",
    "Specific topics:\n",
    "\n",
    "  * Review of what we've done so far with functions\n",
    "  * So why write functions at all?\n",
    "  * Variable scope -- what is it?\n",
    "  * Functions are 'first-class' objects just like other objects!\n",
    "  * Anonymous functions and the `lambda` keyword.\n",
    "  * Creating modules of our own useful functions (and other things!).\n",
    "  * The `import` statement and its many forms.\n",
    "  * The Python Standard Library!\n",
    "  "
   ]
  },
  {
   "cell_type": "markdown",
   "metadata": {},
   "source": [
    "Review of what we've done so far with functions\n",
    "----\n",
    "Recall that we wrote functions to convert temperatures in Celsius to Fahrenheit and back. Now, let's look at a function that computes the area of a circle..."
   ]
  },
  {
   "cell_type": "code",
   "execution_count": null,
   "metadata": {},
   "outputs": [],
   "source": [
    "def circle_area()\n",
    "    pass"
   ]
  },
  {
   "cell_type": "code",
   "execution_count": null,
   "metadata": {},
   "outputs": [],
   "source": []
  },
  {
   "cell_type": "markdown",
   "metadata": {},
   "source": [
    "So why write functions at all?\n",
    "----\n",
    "Often, new programmers don't immediately grasp why we would want to write functions at all... Here's an example of how we can compose a function to calculate the area of a flat washer."
   ]
  },
  {
   "cell_type": "code",
   "execution_count": null,
   "metadata": {},
   "outputs": [],
   "source": [
    "def washer_area():\n",
    "    pass"
   ]
  },
  {
   "cell_type": "code",
   "execution_count": null,
   "metadata": {},
   "outputs": [],
   "source": []
  },
  {
   "cell_type": "markdown",
   "metadata": {},
   "source": [
    "How about the volume of a cylinder?"
   ]
  },
  {
   "cell_type": "code",
   "execution_count": null,
   "metadata": {},
   "outputs": [],
   "source": [
    "def cylinder_colume():\n",
    "    pass"
   ]
  },
  {
   "cell_type": "code",
   "execution_count": null,
   "metadata": {},
   "outputs": [],
   "source": []
  },
  {
   "cell_type": "markdown",
   "metadata": {},
   "source": [
    "Variable scope -- what is it?\n",
    "----\n",
    "It is possible to reuse a variable name inside a function. This practice is generally discuraged, because assignments inside the function create new objects that are known only inside the function. Yes -- it seems strange. Take a look, though.\n"
   ]
  },
  {
   "cell_type": "code",
   "execution_count": null,
   "metadata": {},
   "outputs": [],
   "source": [
    "# Here's a variable with 'global' scope\n",
    "fred = 10\n",
    "\n",
    "def update_fred(new_fred):\n",
    "    # You may not expect it -- but this is a different fred!\n",
    "    fred = new_fred\n",
    "    print(f'fred is now {fred}')\n",
    "    "
   ]
  },
  {
   "cell_type": "code",
   "execution_count": null,
   "metadata": {},
   "outputs": [],
   "source": [
    "fred"
   ]
  },
  {
   "cell_type": "code",
   "execution_count": null,
   "metadata": {},
   "outputs": [],
   "source": [
    "update_fred(20)"
   ]
  },
  {
   "cell_type": "code",
   "execution_count": null,
   "metadata": {},
   "outputs": [],
   "source": [
    "fred"
   ]
  },
  {
   "cell_type": "markdown",
   "metadata": {},
   "source": [
    "If you REALLY want to change the value of a global variable inside a function, declare it global within the function."
   ]
  },
  {
   "cell_type": "code",
   "execution_count": null,
   "metadata": {},
   "outputs": [],
   "source": [
    "# Here's a variable with 'global' scope\n",
    "fred = 10\n",
    "\n",
    "def update_fred(new_fred):\n",
    "    # I want to use the fred from OUTSIDE the function\n",
    "    global fred\n",
    "    \n",
    "    fred = new_fred\n",
    "    print(f'fred is now {fred}')\n",
    "    "
   ]
  },
  {
   "cell_type": "code",
   "execution_count": null,
   "metadata": {},
   "outputs": [],
   "source": [
    "fred"
   ]
  },
  {
   "cell_type": "code",
   "execution_count": null,
   "metadata": {},
   "outputs": [],
   "source": [
    "update_fred(20)\n",
    "fred"
   ]
  },
  {
   "cell_type": "code",
   "execution_count": null,
   "metadata": {},
   "outputs": [],
   "source": []
  },
  {
   "cell_type": "markdown",
   "metadata": {},
   "source": [
    "Functions are 'first-class' objects just like other objects!\n",
    "----\n",
    "In Python, a function is an object, just as other objects are. This has some great practical uses, like passing a function to a function... Consider this code that might be used inside of a calculator application."
   ]
  },
  {
   "cell_type": "code",
   "execution_count": null,
   "metadata": {},
   "outputs": [],
   "source": [
    "def add(x, y):\n",
    "    return x + y\n",
    "\n",
    "def sub(x, y):\n",
    "    return x - y\n",
    "\n",
    "def mul(x, y):\n",
    "    return x * y\n",
    "\n",
    "def div(x, y):\n",
    "    return x / y\n",
    "\n",
    "def operation(x, y, op):\n",
    "    return op(x, y)"
   ]
  },
  {
   "cell_type": "code",
   "execution_count": null,
   "metadata": {},
   "outputs": [],
   "source": [
    "operation(3, 4, add)"
   ]
  },
  {
   "cell_type": "code",
   "execution_count": null,
   "metadata": {},
   "outputs": [],
   "source": []
  },
  {
   "cell_type": "markdown",
   "metadata": {},
   "source": [
    "Optional arguments\n",
    "----\n",
    "Imagine that you have a function that has an argument that is usually set to a particular value. We can adjust our function to use that value as a default. "
   ]
  },
  {
   "cell_type": "code",
   "execution_count": null,
   "metadata": {},
   "outputs": [],
   "source": []
  },
  {
   "cell_type": "markdown",
   "metadata": {},
   "source": [
    "Keyword arguments\n",
    "----\n",
    "It is also possible to use keyword arguments when calling a function. Here we have a function with three optional arguments. The calling code can selectively utilize only the ones that it needs. This is a common pattern in the Python Standard Library for certain modules."
   ]
  },
  {
   "cell_type": "code",
   "execution_count": null,
   "metadata": {},
   "outputs": [],
   "source": []
  },
  {
   "cell_type": "markdown",
   "metadata": {},
   "source": [
    "Anonymous functions and the lambda keyword.\n",
    "----\n",
    "A number of Python libraries expect functions as arguments. In the event that you want to use a function only once, you can create an \"anonymous\" function using the `lambda` keyword."
   ]
  },
  {
   "cell_type": "code",
   "execution_count": null,
   "metadata": {},
   "outputs": [],
   "source": [
    "# This is a lambda -- an expression that creates a function. Use the form\n",
    "#    lambda <args>: expression \n",
    "# to create the anonymous function\n",
    "lambda x: x + 1"
   ]
  },
  {
   "cell_type": "code",
   "execution_count": null,
   "metadata": {},
   "outputs": [],
   "source": [
    "# We can assign a lambda to a name, and it acts like a regular old function\n"
   ]
  },
  {
   "cell_type": "markdown",
   "metadata": {},
   "source": [
    "So what? Well, we can utilize lambdas in cases when we want to do a simple function. Remember our 'operation' function?"
   ]
  },
  {
   "cell_type": "code",
   "execution_count": null,
   "metadata": {},
   "outputs": [],
   "source": []
  },
  {
   "cell_type": "markdown",
   "metadata": {},
   "source": [
    "You may find times when `lambda` functions are convenient (like GUI programs), but remember that if `lambda` confuses you, you can always write a function the 'normal' way. "
   ]
  },
  {
   "cell_type": "markdown",
   "metadata": {},
   "source": [
    "Namespaces -- what are they?\n",
    "---\n",
    "Here we'll talk about the concept of a namespace and we'll explore our current namespace..."
   ]
  },
  {
   "cell_type": "markdown",
   "metadata": {},
   "source": [
    "Creating modules of our own useful functions (and other things!).\n",
    "----\n",
    "\n",
    "In Jupyter notebook, we can create our own libraries. Let's write a module with our area calculation functions from above..."
   ]
  },
  {
   "cell_type": "code",
   "execution_count": null,
   "metadata": {},
   "outputs": [],
   "source": []
  },
  {
   "cell_type": "markdown",
   "metadata": {},
   "source": [
    "The import statement and its many forms.\n",
    "----\n",
    "The Python `import` statement allows us to bring code into our namespace in a few different ways. Let's explore `import` with the `my_area_module.py` module."
   ]
  },
  {
   "cell_type": "markdown",
   "metadata": {},
   "source": [
    "The Python Standard Library!\n",
    "----\n",
    "Let's explore the standard library and we'll improve our area calculator module using one module from it."
   ]
  },
  {
   "cell_type": "code",
   "execution_count": null,
   "metadata": {},
   "outputs": [],
   "source": []
  },
  {
   "cell_type": "code",
   "execution_count": null,
   "metadata": {},
   "outputs": [],
   "source": []
  }
 ],
 "metadata": {
  "kernelspec": {
   "display_name": "Python 3",
   "language": "python",
   "name": "python3"
  },
  "language_info": {
   "codemirror_mode": {
    "name": "ipython",
    "version": 3
   },
   "file_extension": ".py",
   "mimetype": "text/x-python",
   "name": "python",
   "nbconvert_exporter": "python",
   "pygments_lexer": "ipython3",
   "version": "3.7.4"
  }
 },
 "nbformat": 4,
 "nbformat_minor": 2
}
