{
 "cells": [
  {
   "cell_type": "markdown",
   "metadata": {},
   "source": [
    "Session 8\n",
    "====\n",
    "Today we'll look at lots of expression types that we've skipped so far, then begin looking into how Python allows us to create our own datatypes, or *classes*. A class is a type of object that has specific capabilities for solving a particular problem. Python classes can be derived from other classes, or can be composed from instances of other classes.\n",
    "\n",
    "Phew! That's a lot of words. But first, let's put a few loose items away..."
   ]
  },
  {
   "cell_type": "markdown",
   "metadata": {},
   "source": [
    "A `pairs` generator\n",
    "---\n",
    "Last time, we started talking about a generator that yields up pairs of consecutive entries in a list. Here we go!\n",
    "\n",
    "In Python, sometimes we need an iterator to traverse a built-in collection (like a list). Python offers the `iter()` function that makes a generator-like object for accessing the items in the list. The `iter()` function may be used to create generators for any and all Python collections that support the iterator protocol. The `next()` function takes an iterator and yields the next item in the sequence.  "
   ]
  },
  {
   "cell_type": "code",
   "execution_count": 7,
   "metadata": {},
   "outputs": [
    {
     "data": {
      "text/plain": [
       "1"
      ]
     },
     "execution_count": 7,
     "metadata": {},
     "output_type": "execute_result"
    }
   ],
   "source": [
    "it = iter([1,2,3,])\n",
    "next(it)"
   ]
  },
  {
   "cell_type": "code",
   "execution_count": 8,
   "metadata": {},
   "outputs": [
    {
     "data": {
      "text/plain": [
       "2"
      ]
     },
     "execution_count": 8,
     "metadata": {},
     "output_type": "execute_result"
    }
   ],
   "source": [
    "next(it)"
   ]
  },
  {
   "cell_type": "code",
   "execution_count": 9,
   "metadata": {},
   "outputs": [
    {
     "data": {
      "text/plain": [
       "3"
      ]
     },
     "execution_count": 9,
     "metadata": {},
     "output_type": "execute_result"
    }
   ],
   "source": [
    "next(it)"
   ]
  },
  {
   "cell_type": "code",
   "execution_count": 10,
   "metadata": {},
   "outputs": [
    {
     "ename": "StopIteration",
     "evalue": "",
     "output_type": "error",
     "traceback": [
      "\u001b[1;31m---------------------------------------------------------------------------\u001b[0m",
      "\u001b[1;31mStopIteration\u001b[0m                             Traceback (most recent call last)",
      "\u001b[1;32m<ipython-input-10-bc1ab118995a>\u001b[0m in \u001b[0;36m<module>\u001b[1;34m\u001b[0m\n\u001b[1;32m----> 1\u001b[1;33m \u001b[0mnext\u001b[0m\u001b[1;33m(\u001b[0m\u001b[0mit\u001b[0m\u001b[1;33m)\u001b[0m\u001b[1;33m\u001b[0m\u001b[1;33m\u001b[0m\u001b[0m\n\u001b[0m",
      "\u001b[1;31mStopIteration\u001b[0m: "
     ]
    }
   ],
   "source": [
    "next(it)"
   ]
  },
  {
   "cell_type": "code",
   "execution_count": 12,
   "metadata": {},
   "outputs": [],
   "source": [
    "def ipairs(seq):\n",
    "    '''\n",
    "    Yields a sequence of pairs from the seqence provided. For example,\n",
    "    \n",
    "    ipairs([1,2,3,4]) --> (1,2) (2,3) (3,4)\n",
    "    '''\n",
    "    it = iter(seq)\n",
    "    # Grab the first entry to start the pair sequence\n",
    "    i1 = next(it)\n",
    "    \n",
    "    # This loop picks up from the second entry in the input sequence.\n",
    "    # Each time through this loop, i2 takes on a new value.\n",
    "    for i2 in it:\n",
    "        yield (i1, i2)\n",
    "        # Now, store the second value to begin the next pair\n",
    "        i1 = i2"
   ]
  },
  {
   "cell_type": "code",
   "execution_count": 13,
   "metadata": {},
   "outputs": [
    {
     "name": "stdout",
     "output_type": "stream",
     "text": [
      "(1, 2)\n",
      "(2, 3)\n",
      "(3, 4)\n",
      "(4, 5)\n",
      "(5, 6)\n",
      "(6, 7)\n",
      "(7, 8)\n",
      "(8, 9)\n",
      "(9, 10)\n"
     ]
    }
   ],
   "source": [
    "for tu in ipairs([1,2,3,4,5,6,7,8,9,10]):\n",
    "    print(tu)"
   ]
  },
  {
   "cell_type": "code",
   "execution_count": 14,
   "metadata": {},
   "outputs": [
    {
     "name": "stdout",
     "output_type": "stream",
     "text": [
      "((1, 2), (2, 3))\n",
      "((2, 3), (3, 4))\n",
      "((3, 4), (4, 5))\n",
      "((4, 5), (5, 6))\n",
      "((5, 6), (6, 7))\n",
      "((6, 7), (7, 8))\n",
      "((7, 8), (8, 9))\n",
      "((8, 9), (9, 10))\n"
     ]
    }
   ],
   "source": [
    "# ipairs works with any iterable object, even a generator!\n",
    "\n",
    "for tu in ipairs(ipairs([1,2,3,4,5,6,7,8,9,10])):\n",
    "    print(tu)"
   ]
  },
  {
   "cell_type": "markdown",
   "metadata": {},
   "source": [
    "Ternary expressions\n",
    "---\n",
    "We can write expressions with an if-then-else decision within the expression!"
   ]
  },
  {
   "cell_type": "code",
   "execution_count": 16,
   "metadata": {},
   "outputs": [
    {
     "name": "stdout",
     "output_type": "stream",
     "text": [
      "100\n"
     ]
    }
   ],
   "source": [
    "y = 47\n",
    "\n",
    "x = y + 3 if y < 40 else 100\n",
    "print(x)"
   ]
  },
  {
   "cell_type": "markdown",
   "metadata": {},
   "source": [
    "Chained inequalities\n",
    "---\n",
    "We can chain two inequalities to check for a value within a range."
   ]
  },
  {
   "cell_type": "code",
   "execution_count": 18,
   "metadata": {},
   "outputs": [
    {
     "name": "stdout",
     "output_type": "stream",
     "text": [
      "0\n"
     ]
    }
   ],
   "source": [
    "xmin = -5\n",
    "xmax = 5\n",
    "\n",
    "x = -6\n",
    "y = x * x if -5 <= x <= 5 else 0\n",
    "print(y)"
   ]
  },
  {
   "cell_type": "code",
   "execution_count": 20,
   "metadata": {},
   "outputs": [
    {
     "data": {
      "text/plain": [
       "True"
      ]
     },
     "execution_count": 20,
     "metadata": {},
     "output_type": "execute_result"
    }
   ],
   "source": [
    "x = 2\n",
    "-5 <= x <= 5"
   ]
  },
  {
   "cell_type": "markdown",
   "metadata": {},
   "source": [
    "Anonymous functions (the `lambda`) keyword\n",
    "---\n",
    "We've put this off long enough. Let's talk about anonymous functions. We've seen a lot of functions like this one...\n"
   ]
  },
  {
   "cell_type": "code",
   "execution_count": 21,
   "metadata": {},
   "outputs": [
    {
     "data": {
      "text/plain": [
       "39"
      ]
     },
     "execution_count": 21,
     "metadata": {},
     "output_type": "execute_result"
    }
   ],
   "source": [
    "def f(x):\n",
    "    ''' Function that has a return value that can be evaluated as an expression '''\n",
    "    return 2 * x + 1\n",
    "\n",
    "f(19)"
   ]
  },
  {
   "cell_type": "markdown",
   "metadata": {},
   "source": [
    "We can write an *anonymous* function, or a function that has no name, using the `lambda` keyword:"
   ]
  },
  {
   "cell_type": "code",
   "execution_count": 22,
   "metadata": {},
   "outputs": [
    {
     "data": {
      "text/plain": [
       "<function __main__.<lambda>(x)>"
      ]
     },
     "execution_count": 22,
     "metadata": {},
     "output_type": "execute_result"
    }
   ],
   "source": [
    "lambda x: 2 * x + 1"
   ]
  },
  {
   "cell_type": "markdown",
   "metadata": {},
   "source": [
    "Notice that the result of that expression is a *function*! We can call that function, just like any other:"
   ]
  },
  {
   "cell_type": "code",
   "execution_count": 23,
   "metadata": {},
   "outputs": [
    {
     "data": {
      "text/plain": [
       "39"
      ]
     },
     "execution_count": 23,
     "metadata": {},
     "output_type": "execute_result"
    }
   ],
   "source": [
    "(lambda x: 2 * x + 1)(19)"
   ]
  },
  {
   "cell_type": "markdown",
   "metadata": {},
   "source": [
    "Recalling that any function is just a Python object, we can even give it a name..."
   ]
  },
  {
   "cell_type": "code",
   "execution_count": 24,
   "metadata": {},
   "outputs": [
    {
     "data": {
      "text/plain": [
       "39"
      ]
     },
     "execution_count": 24,
     "metadata": {},
     "output_type": "execute_result"
    }
   ],
   "source": [
    "g = lambda x: 2 * x + 1\n",
    "g(19)"
   ]
  },
  {
   "cell_type": "code",
   "execution_count": 26,
   "metadata": {},
   "outputs": [
    {
     "data": {
      "text/plain": [
       "0"
      ]
     },
     "execution_count": 26,
     "metadata": {},
     "output_type": "execute_result"
    }
   ],
   "source": [
    "h = lambda x: x * x if -5 <= x <= 5 else 0\n",
    "h(6)"
   ]
  },
  {
   "cell_type": "code",
   "execution_count": 27,
   "metadata": {},
   "outputs": [
    {
     "data": {
      "text/plain": [
       "21"
      ]
     },
     "execution_count": 27,
     "metadata": {},
     "output_type": "execute_result"
    }
   ],
   "source": [
    "# A two-argument lambda\n",
    "a_func = lambda x, y: x + 2 *y\n",
    "\n",
    "a_func(3, 9)"
   ]
  },
  {
   "cell_type": "code",
   "execution_count": 30,
   "metadata": {},
   "outputs": [
    {
     "name": "stdout",
     "output_type": "stream",
     "text": [
      "b_func(9, 0) 9\n",
      "b_func(9, 2) 13\n"
     ]
    }
   ],
   "source": [
    "b_func = lambda x, y=0: x + 2 * y\n",
    "\n",
    "print(f'b_func(9, 0) {b_func(9)}')\n",
    "print(f'b_func(9, 2) {b_func(9, 2)}')"
   ]
  },
  {
   "cell_type": "markdown",
   "metadata": {},
   "source": [
    "So what? Why do we want lambdas? One reason: sorting!\n",
    "---\n",
    "It turns out that there are lots of times when we need a function, but only for one purpose, e.g. a call into another function. Here's an example. We have the ability to sort a list in place by using the `sort()` method (or we can use the `sorted` generator if we like)."
   ]
  },
  {
   "cell_type": "code",
   "execution_count": 31,
   "metadata": {},
   "outputs": [],
   "source": [
    "my_data = [9, -3, 2, 7, -19, 42, 87]\n"
   ]
  },
  {
   "cell_type": "code",
   "execution_count": 32,
   "metadata": {},
   "outputs": [
    {
     "data": {
      "text/plain": [
       "[-19, -3, 2, 7, 9, 42, 87]"
      ]
     },
     "execution_count": 32,
     "metadata": {},
     "output_type": "execute_result"
    }
   ],
   "source": [
    "# The sort() method sorts a list\n",
    "my_data.sort()\n",
    "my_data"
   ]
  },
  {
   "cell_type": "code",
   "execution_count": 33,
   "metadata": {},
   "outputs": [
    {
     "data": {
      "text/plain": [
       "[87, 42, 9, 7, 2, -3, -19]"
      ]
     },
     "execution_count": 33,
     "metadata": {},
     "output_type": "execute_result"
    }
   ],
   "source": [
    "# We can sort in revers order!\n",
    "my_data.sort(reverse=True)\n",
    "my_data"
   ]
  },
  {
   "cell_type": "code",
   "execution_count": 34,
   "metadata": {},
   "outputs": [
    {
     "name": "stdout",
     "output_type": "stream",
     "text": [
      "-19\n",
      "-3\n",
      "2\n",
      "7\n",
      "9\n",
      "42\n",
      "87\n"
     ]
    }
   ],
   "source": [
    "# Traverse the list in sorted order\n",
    "my_data = [9, -3, 2, 7, -19, 42, 87]\n",
    "\n",
    "for i in sorted(my_data):\n",
    "    print(i)"
   ]
  },
  {
   "cell_type": "code",
   "execution_count": 38,
   "metadata": {},
   "outputs": [
    {
     "name": "stdout",
     "output_type": "stream",
     "text": [
      "2\n",
      "-3\n",
      "7\n",
      "9\n",
      "-19\n",
      "42\n",
      "87\n"
     ]
    }
   ],
   "source": [
    "# Sort my list in order of squares\n",
    "for i in sorted(my_data, key=lambda x: x * x):\n",
    "     print(i)"
   ]
  },
  {
   "cell_type": "code",
   "execution_count": 40,
   "metadata": {},
   "outputs": [
    {
     "data": {
      "text/plain": [
       "[-19, 9, 7, 42, 2, 87, -3]"
      ]
     },
     "execution_count": 40,
     "metadata": {},
     "output_type": "execute_result"
    }
   ],
   "source": [
    "# Just for fun, we can use the shuffle() function of the `random` package!\n",
    "import random\n",
    "\n",
    "random.shuffle(my_data)\n",
    "my_data"
   ]
  },
  {
   "cell_type": "code",
   "execution_count": 45,
   "metadata": {},
   "outputs": [
    {
     "data": {
      "text/plain": [
       "[-3, 7, 9, -19, 2, 42, 87]"
      ]
     },
     "execution_count": 45,
     "metadata": {},
     "output_type": "execute_result"
    }
   ],
   "source": [
    "random.shuffle(my_data)\n",
    "my_data"
   ]
  },
  {
   "cell_type": "markdown",
   "metadata": {},
   "source": [
    "Sorting works with any list, but imagine that we are sorting a list of tuples -- how are they sorted?"
   ]
  },
  {
   "cell_type": "code",
   "execution_count": 47,
   "metadata": {},
   "outputs": [
    {
     "name": "stdout",
     "output_type": "stream",
     "text": [
      "(-5, 3)\n",
      "(1, 9)\n",
      "(4, -5)\n",
      "(10, 10)\n"
     ]
    }
   ],
   "source": [
    "# Aha! It sorts by the first entry of each tuple!\n",
    "\n",
    "list_of_tuples = [(1, 9), (-5, 3), (4, -5), (10, 10)]\n",
    "for tu in sorted(list_of_tuples):\n",
    "    print(tu)"
   ]
  },
  {
   "cell_type": "markdown",
   "metadata": {},
   "source": [
    "But... what if we want to sort by the second entry?\n",
    "\n",
    "Well, the `sort` method of lists and the `sorted` generator offer an optional argument, `key`, which is a function that is to be performed on each of the entries in the collection to be sorted. So... if we need a function that returns the second entry in each tuple, we can do this:"
   ]
  },
  {
   "cell_type": "code",
   "execution_count": 48,
   "metadata": {},
   "outputs": [
    {
     "name": "stdout",
     "output_type": "stream",
     "text": [
      "(4, -5)\n",
      "(-5, 3)\n",
      "(1, 9)\n",
      "(10, 10)\n"
     ]
    }
   ],
   "source": [
    "def second_value(tu):\n",
    "    ''' Returns the second entry in the tuple provided '''\n",
    "    return tu[1]\n",
    "\n",
    "for tu in sorted(list_of_tuples, key=second_value):\n",
    "    print(tu)"
   ]
  },
  {
   "cell_type": "markdown",
   "metadata": {},
   "source": [
    "Let's try it with a `lambda`..."
   ]
  },
  {
   "cell_type": "code",
   "execution_count": 49,
   "metadata": {},
   "outputs": [
    {
     "name": "stdout",
     "output_type": "stream",
     "text": [
      "(4, -5)\n",
      "(-5, 3)\n",
      "(1, 9)\n",
      "(10, 10)\n"
     ]
    }
   ],
   "source": [
    "for tu in sorted(list_of_tuples, key=lambda x: x[1]):\n",
    "    print(tu)"
   ]
  },
  {
   "cell_type": "markdown",
   "metadata": {},
   "source": [
    "There are plenty more chances for us to use `lambda` expressions. They show up frequently when we Google for solutions to common problems."
   ]
  },
  {
   "cell_type": "markdown",
   "metadata": {},
   "source": [
    "Another bit of fun with list comprehensions and generators\n",
    "---\n",
    "Here are a few problems to solve."
   ]
  },
  {
   "cell_type": "code",
   "execution_count": 51,
   "metadata": {},
   "outputs": [],
   "source": [
    "%matplotlib inline\n",
    "\n",
    "import functools\n",
    "import matplotlib.pyplot as plt"
   ]
  },
  {
   "cell_type": "code",
   "execution_count": 52,
   "metadata": {},
   "outputs": [
    {
     "data": {
      "text/plain": [
       "[<matplotlib.lines.Line2D at 0x27807d7d408>]"
      ]
     },
     "execution_count": 52,
     "metadata": {},
     "output_type": "execute_result"
    },
    {
     "data": {
      "image/png": "[encoded data removed]",
      "text/plain": [
       "<Figure size 432x288 with 1 Axes>"
      ]
     },
     "metadata": {
      "needs_background": "light"
     },
     "output_type": "display_data"
    }
   ],
   "source": [
    "# 1. Use list comprehensions to plot the function y = x^3 + 1 from x=-5 to x=5\n",
    "\n",
    "x = list(range(-5, 6))\n",
    "y = [ xi ** 3 + 1 for xi in x ]\n",
    "plt.plot(x, y)"
   ]
  },
  {
   "cell_type": "code",
   "execution_count": 53,
   "metadata": {},
   "outputs": [
    {
     "data": {
      "text/plain": [
       "120"
      ]
     },
     "execution_count": 53,
     "metadata": {},
     "output_type": "execute_result"
    }
   ],
   "source": [
    "# 2. Use the functools.reduce() function to calculate the product of \n",
    "#    the first five positive integers\n",
    "#\n",
    "#    reduce() takes a function of two arguments,\n",
    "#             a sequence of items to evaluate\n",
    "#             and an initial value.\n",
    "#\n",
    "#             It then repeatedly uses the function on a current value\n",
    "#             and all the entries in the sequence\n",
    "#\n",
    "#    We'll use a lambda to make the function...\n",
    "\n",
    "from functools import reduce\n",
    "\n",
    "def product(x, y):\n",
    "    return x * y\n",
    "\n",
    "reduce(product, range(1, 6))\n"
   ]
  },
  {
   "cell_type": "code",
   "execution_count": 54,
   "metadata": {},
   "outputs": [
    {
     "data": {
      "text/plain": [
       "120"
      ]
     },
     "execution_count": 54,
     "metadata": {},
     "output_type": "execute_result"
    }
   ],
   "source": [
    "reduce(lambda x, y: x * y, range(1, 6))"
   ]
  },
  {
   "cell_type": "code",
   "execution_count": 57,
   "metadata": {},
   "outputs": [
    {
     "data": {
      "text/plain": [
       "{'a': 99, 'b': 104, 'd': 85, 'w': 17, 'r': 42, 'z': 4}"
      ]
     },
     "execution_count": 57,
     "metadata": {},
     "output_type": "execute_result"
    }
   ],
   "source": [
    "# 3. Write a dictionary comprehension that takes a list of keys and a list of values\n",
    "#    and builds a dictionary from them...\n",
    "\n",
    "keys = ['a', 'b', 'd', 'w', 'r', 'z',]\n",
    "values = [99, 104, 85, 17, 42, 4,]\n",
    "\n",
    "{ k:v for k, v in zip(keys, values) }"
   ]
  },
  {
   "cell_type": "code",
   "execution_count": 59,
   "metadata": {},
   "outputs": [
    {
     "data": {
      "text/plain": [
       "[[1, 2, 3, 4, 5, 6, 7, 8, 9, 10, 11, 12],\n",
       " [2, 4, 6, 8, 10, 12, 14, 16, 18, 20, 22, 24],\n",
       " [3, 6, 9, 12, 15, 18, 21, 24, 27, 30, 33, 36],\n",
       " [4, 8, 12, 16, 20, 24, 28, 32, 36, 40, 44, 48],\n",
       " [5, 10, 15, 20, 25, 30, 35, 40, 45, 50, 55, 60],\n",
       " [6, 12, 18, 24, 30, 36, 42, 48, 54, 60, 66, 72],\n",
       " [7, 14, 21, 28, 35, 42, 49, 56, 63, 70, 77, 84],\n",
       " [8, 16, 24, 32, 40, 48, 56, 64, 72, 80, 88, 96],\n",
       " [9, 18, 27, 36, 45, 54, 63, 72, 81, 90, 99, 108],\n",
       " [10, 20, 30, 40, 50, 60, 70, 80, 90, 100, 110, 120],\n",
       " [11, 22, 33, 44, 55, 66, 77, 88, 99, 110, 121, 132],\n",
       " [12, 24, 36, 48, 60, 72, 84, 96, 108, 120, 132, 144]]"
      ]
     },
     "execution_count": 59,
     "metadata": {},
     "output_type": "execute_result"
    }
   ],
   "source": [
    "# 4. Use nested list comprehensions to make a multiplication table for \n",
    "#    values ranging from 1 to 12, represented as a list of lists.\n",
    "\n",
    "[ [ i * j for i in range(1, 13) ] for j in range(1, 13) ]\n"
   ]
  },
  {
   "cell_type": "code",
   "execution_count": 62,
   "metadata": {},
   "outputs": [
    {
     "name": "stdout",
     "output_type": "stream",
     "text": [
      "('pirates', 0.42592592592592593)\n",
      "('reds', 0.46296296296296297)\n",
      "('cubs', 0.5185185185185185)\n",
      "('brewers', 0.5493827160493827)\n",
      "('cardinals', 0.5617283950617284)\n"
     ]
    }
   ],
   "source": [
    "# 5. Given a list of team names, the number of team wins, and the number of \n",
    "#    team losses, make a table of the teams and their winning percentages.\n",
    "#    Sort the list by the team name.\n",
    "\n",
    "teams = ['cardinals', 'brewers', 'cubs', 'reds', 'pirates']\n",
    "wins = [91, 89, 84, 75, 69]\n",
    "losses = [71, 73, 78, 87, 93]\n",
    "\n",
    "for tu in sorted( ( (t, w/(w +l)) for t, w, l in zip(teams, wins, losses) ),\n",
    "                  key=lambda z:z[1] ):\n",
    "    print(tu)\n"
   ]
  },
  {
   "cell_type": "code",
   "execution_count": null,
   "metadata": {},
   "outputs": [],
   "source": []
  }
 ],
 "metadata": {
  "kernelspec": {
   "display_name": "Python 3",
   "language": "python",
   "name": "python3"
  },
  "language_info": {
   "codemirror_mode": {
    "name": "ipython",
    "version": 3
   },
   "file_extension": ".py",
   "mimetype": "text/x-python",
   "name": "python",
   "nbconvert_exporter": "python",
   "pygments_lexer": "ipython3",
   "version": "3.7.4"
  }
 },
 "nbformat": 4,
 "nbformat_minor": 2
}
