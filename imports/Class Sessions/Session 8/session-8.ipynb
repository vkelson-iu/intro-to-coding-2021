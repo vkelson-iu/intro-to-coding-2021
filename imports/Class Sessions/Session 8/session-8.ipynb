{
 "cells": [
  {
   "cell_type": "markdown",
   "metadata": {},
   "source": [
    "Session 8\n",
    "====\n",
    "Today we'll look at lots of expression types that we've skipped so far, then begin looking into how Python allows us to create our own datatypes, or *classes*. A class is a type of object that has specific capabilities for solving a particular problem. Python classes can be derived from other classes, or can be composed from instances of other classes.\n",
    "\n",
    "Phew! That's a lot of words. But first, let's put a few loose items away..."
   ]
  },
  {
   "cell_type": "markdown",
   "metadata": {},
   "source": [
    "A `pairs` generator\n",
    "---\n",
    "Last time, we started talking about a generator that yields up pairs of consecutive entries in a list. Here we go!\n",
    "\n",
    "In Python, sometimes we need an iterator to traverse a built-in collection (like a list). Python offers the `iter()` function that makes a generator-like object for accessing the items in the list. The `iter()` function may be used to create generators for any and all Python collections that support the iterator protocol. The `next()` function takes an iterator and yields the next item in the sequence.  "
   ]
  },
  {
   "cell_type": "code",
   "execution_count": null,
   "metadata": {},
   "outputs": [],
   "source": [
    "it = iter([1,2,3,])\n",
    "next(it)"
   ]
  },
  {
   "cell_type": "code",
   "execution_count": null,
   "metadata": {},
   "outputs": [],
   "source": [
    "def ipairs(seq):\n",
    "    '''\n",
    "    Yields a sequence of pairs from the seqence provided. For example,\n",
    "    \n",
    "    ipairs([1,2,3,4]) --> (1,2) (2,3) (3,4)\n",
    "    '''\n",
    "    it = iter(seq)\n",
    "    # Grab the first entry to start the pair sequence\n",
    "    i1 = next(it)\n",
    "    \n",
    "    # This loop picks up from the second entry in the input sequence.\n",
    "    # Each time through this loop, i2 takes on a new value.\n",
    "    for i2 in it:\n",
    "        yield (i1, i2)\n",
    "        # Now, store the second value to begin the next pair\n",
    "        i1 = i2"
   ]
  },
  {
   "cell_type": "code",
   "execution_count": null,
   "metadata": {},
   "outputs": [],
   "source": [
    "for tu in ipairs([1,2,3,4,5,6,7,8,9,10]):\n",
    "    print(tu)"
   ]
  },
  {
   "cell_type": "code",
   "execution_count": null,
   "metadata": {},
   "outputs": [],
   "source": [
    "# ipairs works with any iterable object, even a generator!\n",
    "\n",
    "for tu in ipairs(ipairs([1,2,3,4,5,6,7,8,9,10])):\n",
    "    print(tu)"
   ]
  },
  {
   "cell_type": "markdown",
   "metadata": {},
   "source": [
    "Ternary expressions\n",
    "---\n",
    "We can write expressions with an if-then-else decision within the expression!"
   ]
  },
  {
   "cell_type": "code",
   "execution_count": null,
   "metadata": {},
   "outputs": [],
   "source": [
    "y = 30\n",
    "\n",
    "x = y + 3 if y < 40 else 100\n",
    "print(x)"
   ]
  },
  {
   "cell_type": "markdown",
   "metadata": {},
   "source": [
    "Chained inequalities\n",
    "---\n",
    "We can chain two inequalities to check for a value within a range."
   ]
  },
  {
   "cell_type": "code",
   "execution_count": null,
   "metadata": {},
   "outputs": [],
   "source": [
    "xmin = -5\n",
    "xmax = 5\n",
    "\n",
    "x = -2\n",
    "y = x * x if -5 <= x <= 5 else 0\n",
    "print(y)"
   ]
  },
  {
   "cell_type": "code",
   "execution_count": null,
   "metadata": {},
   "outputs": [],
   "source": []
  },
  {
   "cell_type": "markdown",
   "metadata": {},
   "source": [
    "Anonymous functions (the `lambda`) keyword\n",
    "---\n",
    "We've put this off long enough. Let's talk about anonymous functions. We've seen a lot of functions like this one...\n"
   ]
  },
  {
   "cell_type": "code",
   "execution_count": null,
   "metadata": {},
   "outputs": [],
   "source": [
    "def f(x):\n",
    "    ''' Function that has a return value that can be evaluated as an expression '''\n",
    "    return 2 * x + 1\n",
    "\n",
    "f(19)"
   ]
  },
  {
   "cell_type": "markdown",
   "metadata": {},
   "source": [
    "We can write an *anonymous* function, or a function that has no name, using the `lambda` keyword:"
   ]
  },
  {
   "cell_type": "code",
   "execution_count": null,
   "metadata": {},
   "outputs": [],
   "source": [
    "lambda x: 2 * x + 1"
   ]
  },
  {
   "cell_type": "markdown",
   "metadata": {},
   "source": [
    "Notice that the result of that expression is a *function*! We can call that function, just like any other:"
   ]
  },
  {
   "cell_type": "code",
   "execution_count": null,
   "metadata": {},
   "outputs": [],
   "source": []
  },
  {
   "cell_type": "markdown",
   "metadata": {},
   "source": [
    "Recalling that any function is just a Python object, we can even give it a name..."
   ]
  },
  {
   "cell_type": "code",
   "execution_count": null,
   "metadata": {},
   "outputs": [],
   "source": []
  },
  {
   "cell_type": "markdown",
   "metadata": {},
   "source": [
    "So what? Why do we want lambdas? One reason: sorting!\n",
    "---\n",
    "It turns out that there are lots of times when we need a function, but only for one purpose, e.g. a call into another function. Here's an example. We have the ability to sort a list in place by using the `sort()` method (or we can use the `sorted` generator if we like)."
   ]
  },
  {
   "cell_type": "code",
   "execution_count": 1,
   "metadata": {},
   "outputs": [],
   "source": [
    "my_data = [9, -3, 2, 7, -19, 42, 87]\n"
   ]
  },
  {
   "cell_type": "code",
   "execution_count": 3,
   "metadata": {},
   "outputs": [
    {
     "data": {
      "text/plain": [
       "[-19, -3, 2, 7, 9, 42, 87]"
      ]
     },
     "execution_count": 3,
     "metadata": {},
     "output_type": "execute_result"
    }
   ],
   "source": [
    "# The sort() method sorts a list\n",
    "my_data.sort()\n",
    "my_data"
   ]
  },
  {
   "cell_type": "code",
   "execution_count": 5,
   "metadata": {},
   "outputs": [
    {
     "data": {
      "text/plain": [
       "[87, 42, 9, 7, 2, -3, -19]"
      ]
     },
     "execution_count": 5,
     "metadata": {},
     "output_type": "execute_result"
    }
   ],
   "source": [
    "# We can sort in revers order!\n",
    "my_data.sort(reverse=True)\n",
    "my_data"
   ]
  },
  {
   "cell_type": "code",
   "execution_count": 6,
   "metadata": {},
   "outputs": [
    {
     "data": {
      "text/plain": [
       "[2, -3, 87, 42, 9, 7, -19]"
      ]
     },
     "execution_count": 6,
     "metadata": {},
     "output_type": "execute_result"
    }
   ],
   "source": [
    "# Just for fun, we can use the shuffle() function of the `random` package!\n",
    "import random\n",
    "\n",
    "random.shuffle(my_data)\n",
    "my_data"
   ]
  },
  {
   "cell_type": "markdown",
   "metadata": {},
   "source": [
    "Sorting works with any list, but imagine that we are sorting a list of tuples -- how are they sorted?"
   ]
  },
  {
   "cell_type": "code",
   "execution_count": null,
   "metadata": {},
   "outputs": [],
   "source": [
    "# Aha! It sorts by the first entry of each tuple!\n",
    "\n",
    "list_of_tuples = [(1, 9), (-5, 3), (4, -5), (10, 10)]\n"
   ]
  },
  {
   "cell_type": "markdown",
   "metadata": {},
   "source": [
    "But... what if we want to sort by the second entry?\n",
    "\n",
    "Well, the `sort` method of lists and the `sorted` generator offer an optional argument, `key`, which is a function that is to be performed on each of the entries in the collection to be sorted. So... if we need a function that returns the second entry in each tuple, we can do this:"
   ]
  },
  {
   "cell_type": "code",
   "execution_count": null,
   "metadata": {},
   "outputs": [],
   "source": [
    "def second_value(tu):\n",
    "    ''' Returns the second entry in the tuple provided '''\n",
    "    return tu[1]\n",
    "\n",
    "for tu in sorted(list_of_tuples, key=second_value):\n",
    "    print(tu)"
   ]
  },
  {
   "cell_type": "markdown",
   "metadata": {},
   "source": [
    "Let's try it with a `lambda`..."
   ]
  },
  {
   "cell_type": "code",
   "execution_count": null,
   "metadata": {},
   "outputs": [],
   "source": [
    "for tu in sorted(list_of_tuples, key=lambda x: x[1]):\n",
    "    print(tu)"
   ]
  },
  {
   "cell_type": "markdown",
   "metadata": {},
   "source": [
    "There are plenty more chances for us to use `lambda` expressions. They show up frequently when we Google for solutions to common problems."
   ]
  },
  {
   "cell_type": "markdown",
   "metadata": {},
   "source": [
    "Another bit of fun with list comprehensions and generators\n",
    "---\n",
    "Here are a few problems to solve."
   ]
  },
  {
   "cell_type": "code",
   "execution_count": null,
   "metadata": {},
   "outputs": [],
   "source": [
    "%matplotlib inline\n",
    "\n",
    "import functools\n",
    "import matplotlib.pyplot as plt"
   ]
  },
  {
   "cell_type": "code",
   "execution_count": null,
   "metadata": {},
   "outputs": [],
   "source": [
    "# 1. Use list comprehensions to plot the function y = x^3 + 1 from x=-5 to x=5\n"
   ]
  },
  {
   "cell_type": "code",
   "execution_count": null,
   "metadata": {},
   "outputs": [],
   "source": [
    "# 2. Use the functools.reduce() function to calculate the product of \n",
    "#    the first five positive integers\n",
    "#\n",
    "#    reduce() takes a function of two arguments,\n",
    "#             a sequence of items to evaluate\n",
    "#             and an initial value.\n",
    "#\n",
    "#             It then repeatedly uses the function on a current value\n",
    "#             and all the entries in the sequence\n",
    "#\n",
    "#    We'll use a lambda to make the function...\n",
    "\n"
   ]
  },
  {
   "cell_type": "code",
   "execution_count": null,
   "metadata": {},
   "outputs": [],
   "source": [
    "# 3. Write a dictionary generator that takes a list of keys and a list of values\n",
    "#    and builds a dictionary from them...\n",
    "\n",
    "keys = ['a', 'b', 'd', 'w', 'r', 'z',]\n",
    "values = [99, 104, 85, 17, 42, 4,]\n",
    "\n"
   ]
  },
  {
   "cell_type": "code",
   "execution_count": null,
   "metadata": {},
   "outputs": [],
   "source": [
    "# 4. Use nested list comprehensions to make a multiplication table for \n",
    "#    values ranging from 1 to 12, represented as a list of lists.\n",
    "\n"
   ]
  },
  {
   "cell_type": "code",
   "execution_count": null,
   "metadata": {},
   "outputs": [],
   "source": [
    "# 5. Given a list of team names, the number of team wins, and the number of \n",
    "#    team losses, make a table of the teams and their winning percentages.\n",
    "#    Sort the list by the team name.\n",
    "\n",
    "teams = ['cardinals', 'brewers', 'cubs', 'reds', 'pirates']\n",
    "wins = [91, 89, 84, 75, 69]\n",
    "losses = [71, 73, 78, 87, 93]\n",
    "\n"
   ]
  },
  {
   "cell_type": "code",
   "execution_count": null,
   "metadata": {},
   "outputs": [],
   "source": [
    "# 6. Now do problem 5 but sort by the number of losses, in reverse order\n",
    "\n"
   ]
  },
  {
   "cell_type": "markdown",
   "metadata": {},
   "source": [
    "Writing our own types -- the `class` statement\n",
    "---\n",
    "\n",
    "Let's build a new data type, called Point, that contains a 2D position (x, y) and a label (as text). We'll define the type, and provide Point each object the ability to plot themselves and to calculate its distance from another Point."
   ]
  },
  {
   "cell_type": "code",
   "execution_count": null,
   "metadata": {},
   "outputs": [],
   "source": []
  },
  {
   "cell_type": "code",
   "execution_count": null,
   "metadata": {},
   "outputs": [],
   "source": []
  },
  {
   "cell_type": "code",
   "execution_count": null,
   "metadata": {},
   "outputs": [],
   "source": []
  },
  {
   "cell_type": "code",
   "execution_count": null,
   "metadata": {},
   "outputs": [],
   "source": []
  },
  {
   "cell_type": "markdown",
   "metadata": {},
   "source": [
    "Can we use our `pairs` generator to compute the total distance along a path, given the path as a list of Point objects?"
   ]
  },
  {
   "cell_type": "code",
   "execution_count": null,
   "metadata": {},
   "outputs": [],
   "source": []
  },
  {
   "cell_type": "code",
   "execution_count": null,
   "metadata": {},
   "outputs": [],
   "source": []
  },
  {
   "cell_type": "markdown",
   "metadata": {},
   "source": [
    "A simple address list database (time permitting)\n",
    "---\n",
    "Imagine that we want to build an address list app that can be searched by entering names. Here, we'll build a new data type that contains an entry with names and email addresses."
   ]
  },
  {
   "cell_type": "code",
   "execution_count": null,
   "metadata": {},
   "outputs": [],
   "source": []
  },
  {
   "cell_type": "code",
   "execution_count": null,
   "metadata": {},
   "outputs": [],
   "source": []
  },
  {
   "cell_type": "code",
   "execution_count": null,
   "metadata": {},
   "outputs": [],
   "source": []
  },
  {
   "cell_type": "code",
   "execution_count": null,
   "metadata": {},
   "outputs": [],
   "source": []
  },
  {
   "cell_type": "code",
   "execution_count": null,
   "metadata": {},
   "outputs": [],
   "source": []
  }
 ],
 "metadata": {
  "kernelspec": {
   "display_name": "Python 3",
   "language": "python",
   "name": "python3"
  },
  "language_info": {
   "codemirror_mode": {
    "name": "ipython",
    "version": 3
   },
   "file_extension": ".py",
   "mimetype": "text/x-python",
   "name": "python",
   "nbconvert_exporter": "python",
   "pygments_lexer": "ipython3",
   "version": "3.7.4"
  }
 },
 "nbformat": 4,
 "nbformat_minor": 2
}
